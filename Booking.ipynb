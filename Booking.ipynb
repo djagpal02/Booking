{
 "cells": [
  {
   "cell_type": "code",
   "execution_count": 1,
   "metadata": {},
   "outputs": [],
   "source": [
    "import pandas as pd \n",
    "import numpy as np\n",
    "import matplotlib.pyplot as plt\n",
    "import seaborn as sns\n",
    "%matplotlib inline"
   ]
  },
  {
   "cell_type": "code",
   "execution_count": 2,
   "metadata": {},
   "outputs": [],
   "source": [
    "df = pd.read_csv('booking_train_set.csv')"
   ]
  },
  {
   "cell_type": "code",
   "execution_count": 3,
   "metadata": {},
   "outputs": [],
   "source": [
    "df.drop(['index'],axis=1,inplace = True);"
   ]
  },
  {
   "cell_type": "code",
   "execution_count": 4,
   "metadata": {},
   "outputs": [
    {
     "output_type": "execute_result",
     "data": {
      "text/plain": [
       "   user_id     checkin    checkout  city_id device_class  affiliate_id  \\\n",
       "0  1006220  2016-04-09  2016-04-11    31114      desktop           384   \n",
       "1  1006220  2016-04-11  2016-04-12    39641      desktop           384   \n",
       "2  1006220  2016-04-12  2016-04-16    20232      desktop           384   \n",
       "3  1006220  2016-04-16  2016-04-17    24144      desktop           384   \n",
       "4  1010293  2016-07-09  2016-07-10     5325       mobile           359   \n",
       "\n",
       "         booker_country hotel_country   utrip_id  \n",
       "0                Gondal        Gondal  1006220_1  \n",
       "1                Gondal        Gondal  1006220_1  \n",
       "2                Gondal  Glubbdubdrib  1006220_1  \n",
       "3                Gondal        Gondal  1006220_1  \n",
       "4  The Devilfire Empire  Cobra Island  1010293_1  "
      ],
      "text/html": "<div>\n<style scoped>\n    .dataframe tbody tr th:only-of-type {\n        vertical-align: middle;\n    }\n\n    .dataframe tbody tr th {\n        vertical-align: top;\n    }\n\n    .dataframe thead th {\n        text-align: right;\n    }\n</style>\n<table border=\"1\" class=\"dataframe\">\n  <thead>\n    <tr style=\"text-align: right;\">\n      <th></th>\n      <th>user_id</th>\n      <th>checkin</th>\n      <th>checkout</th>\n      <th>city_id</th>\n      <th>device_class</th>\n      <th>affiliate_id</th>\n      <th>booker_country</th>\n      <th>hotel_country</th>\n      <th>utrip_id</th>\n    </tr>\n  </thead>\n  <tbody>\n    <tr>\n      <th>0</th>\n      <td>1006220</td>\n      <td>2016-04-09</td>\n      <td>2016-04-11</td>\n      <td>31114</td>\n      <td>desktop</td>\n      <td>384</td>\n      <td>Gondal</td>\n      <td>Gondal</td>\n      <td>1006220_1</td>\n    </tr>\n    <tr>\n      <th>1</th>\n      <td>1006220</td>\n      <td>2016-04-11</td>\n      <td>2016-04-12</td>\n      <td>39641</td>\n      <td>desktop</td>\n      <td>384</td>\n      <td>Gondal</td>\n      <td>Gondal</td>\n      <td>1006220_1</td>\n    </tr>\n    <tr>\n      <th>2</th>\n      <td>1006220</td>\n      <td>2016-04-12</td>\n      <td>2016-04-16</td>\n      <td>20232</td>\n      <td>desktop</td>\n      <td>384</td>\n      <td>Gondal</td>\n      <td>Glubbdubdrib</td>\n      <td>1006220_1</td>\n    </tr>\n    <tr>\n      <th>3</th>\n      <td>1006220</td>\n      <td>2016-04-16</td>\n      <td>2016-04-17</td>\n      <td>24144</td>\n      <td>desktop</td>\n      <td>384</td>\n      <td>Gondal</td>\n      <td>Gondal</td>\n      <td>1006220_1</td>\n    </tr>\n    <tr>\n      <th>4</th>\n      <td>1010293</td>\n      <td>2016-07-09</td>\n      <td>2016-07-10</td>\n      <td>5325</td>\n      <td>mobile</td>\n      <td>359</td>\n      <td>The Devilfire Empire</td>\n      <td>Cobra Island</td>\n      <td>1010293_1</td>\n    </tr>\n  </tbody>\n</table>\n</div>"
     },
     "metadata": {},
     "execution_count": 4
    }
   ],
   "source": [
    "df.head()"
   ]
  },
  {
   "cell_type": "code",
   "execution_count": 5,
   "metadata": {},
   "outputs": [
    {
     "output_type": "stream",
     "name": "stdout",
     "text": [
      "<class 'pandas.core.frame.DataFrame'>\nRangeIndex: 1048575 entries, 0 to 1048574\nData columns (total 9 columns):\n #   Column          Non-Null Count    Dtype \n---  ------          --------------    ----- \n 0   user_id         1048575 non-null  int64 \n 1   checkin         1048575 non-null  object\n 2   checkout        1048575 non-null  object\n 3   city_id         1048575 non-null  int64 \n 4   device_class    1048575 non-null  object\n 5   affiliate_id    1048575 non-null  int64 \n 6   booker_country  1048575 non-null  object\n 7   hotel_country   1048575 non-null  object\n 8   utrip_id        1048575 non-null  object\ndtypes: int64(3), object(6)\nmemory usage: 72.0+ MB\n"
     ]
    }
   ],
   "source": [
    "df.info()"
   ]
  },
  {
   "cell_type": "code",
   "execution_count": 6,
   "metadata": {},
   "outputs": [
    {
     "output_type": "execute_result",
     "data": {
      "text/plain": [
       "user_id           181231\n",
       "checkin              425\n",
       "checkout             425\n",
       "city_id            38638\n",
       "device_class           3\n",
       "affiliate_id        3126\n",
       "booker_country         5\n",
       "hotel_country        193\n",
       "utrip_id          195685\n",
       "dtype: int64"
      ]
     },
     "metadata": {},
     "execution_count": 6
    }
   ],
   "source": [
    "df.nunique()"
   ]
  },
  {
   "cell_type": "code",
   "execution_count": 7,
   "metadata": {},
   "outputs": [
    {
     "output_type": "execute_result",
     "data": {
      "text/plain": [
       "80912.75"
      ]
     },
     "metadata": {},
     "execution_count": 7
    }
   ],
   "source": [
    "(1048575 - 181231*4)/4"
   ]
  },
  {
   "cell_type": "markdown",
   "metadata": {},
   "source": [
    "# Notes\n",
    "\n",
    "user_id has 80912 repeats. This suggests up to this many users had multiple holidays. There may be potential in using previous visit data to help predict future. \n",
    "\n",
    "Checkin and checkout are both dates in string format. These need to be converted into python datatime objects. More features should be developed from these including: holiday months, holiday duration.\n",
    "\n",
    "city_id is the feature we are trying to predict. Since this is also based on previous cities, this feature is both input and output. To allow for input we must encode this. Simple label encoding is not the most effective way to encode this as the system may find patterns in the ordering even though there are none. However this will be an effective way to set a baseline and find better encoidng methods to improve on this. \n",
    "\n",
    "device_class is a feautre with 3 possibilities. Since it is such a small feature we can use one hot encoding to encode this. \n",
    "\n",
    "Affiliate_id again requires encoding and since it has 3126 unqiue ids, one hot encoding wil not be effective as it will create too many dimensions. As such we must, similar to city_id, encode this using label encoding to start off and then improve once the baseline has been established. \n",
    "\n",
    "booker_countr only has 5 categories and such can be encoded using one hot encoding. However since the data is similar to hotel country, it may be possible to encode it using the labels from this. This needs to be investigated.\n",
    "\n",
    "Hotel_country has 193 unqiue objects suggesting again to use label encoding to esatblish baseline. \n"
   ]
  },
  {
   "cell_type": "code",
   "execution_count": null,
   "metadata": {},
   "outputs": [],
   "source": []
  },
  {
   "cell_type": "code",
   "execution_count": 8,
   "metadata": {},
   "outputs": [],
   "source": [
    "# Convert to dateimte\n",
    "\n",
    "df['checkin'] = df['checkin'].apply(lambda x: pd.to_datetime(x))\n",
    "df['checkout'] = df['checkout'].apply(lambda x: pd.to_datetime(x))"
   ]
  },
  {
   "cell_type": "code",
   "execution_count": 9,
   "metadata": {},
   "outputs": [],
   "source": [
    "# Get Month\n",
    "\n",
    "df['Month'] = df['checkin'].apply(lambda x: x.month)"
   ]
  },
  {
   "cell_type": "code",
   "execution_count": 10,
   "metadata": {},
   "outputs": [],
   "source": [
    "# Get Duration\n",
    "\n",
    "df['Duration'] = df['checkout'] - df['checkin']\n",
    "df['Duration'] = df['Duration'].apply(lambda x: x.days)"
   ]
  },
  {
   "cell_type": "code",
   "execution_count": 11,
   "metadata": {},
   "outputs": [],
   "source": [
    "# Get Labels for Cities\n",
    "\n",
    "df[\"city_id\"] = df[\"city_id\"].astype('category')\n",
    "df[\"cityLabel\"] = df[\"city_id\"].cat.codes"
   ]
  },
  {
   "cell_type": "code",
   "execution_count": 12,
   "metadata": {},
   "outputs": [],
   "source": [
    "# Get Labels for Deices\n",
    "\n",
    "df[\"device_class\"] = df[\"device_class\"].astype('category')\n",
    "df[\"deviceLabel\"] = df[\"device_class\"].cat.codes"
   ]
  },
  {
   "cell_type": "code",
   "execution_count": 13,
   "metadata": {},
   "outputs": [],
   "source": [
    "# Get Labels for affiliate id\n",
    "\n",
    "df[\"affiliate_id\"] = df[\"affiliate_id\"].astype('category')\n",
    "df[\"affiliateLabel\"] = df[\"affiliate_id\"].cat.codes"
   ]
  },
  {
   "cell_type": "code",
   "execution_count": 14,
   "metadata": {},
   "outputs": [],
   "source": [
    "# Get Labels for Booker Country\n",
    "\n",
    "df[\"booker_country\"] = df[\"booker_country\"].astype('category')\n",
    "df[\"bookerCountryLabel\"] = df[\"booker_country\"].cat.codes"
   ]
  },
  {
   "cell_type": "code",
   "execution_count": 15,
   "metadata": {},
   "outputs": [],
   "source": [
    "# Get Labels for Hotel Country\n",
    "\n",
    "df[\"hotel_country\"] = df[\"hotel_country\"].astype('category')\n",
    "df[\"hotelCountryLabel\"] = df[\"hotel_country\"].cat.codes"
   ]
  },
  {
   "cell_type": "code",
   "execution_count": 16,
   "metadata": {},
   "outputs": [
    {
     "output_type": "execute_result",
     "data": {
      "text/plain": [
       "   user_id    checkin   checkout city_id device_class affiliate_id  \\\n",
       "0  1006220 2016-04-09 2016-04-11   31114      desktop          384   \n",
       "1  1006220 2016-04-11 2016-04-12   39641      desktop          384   \n",
       "2  1006220 2016-04-12 2016-04-16   20232      desktop          384   \n",
       "3  1006220 2016-04-16 2016-04-17   24144      desktop          384   \n",
       "4  1010293 2016-07-09 2016-07-10    5325       mobile          359   \n",
       "\n",
       "         booker_country hotel_country   utrip_id  Month  Duration  cityLabel  \\\n",
       "0                Gondal        Gondal  1006220_1      4         2      17798   \n",
       "1                Gondal        Gondal  1006220_1      4         1      22669   \n",
       "2                Gondal  Glubbdubdrib  1006220_1      4         4      11574   \n",
       "3                Gondal        Gondal  1006220_1      4         1      13853   \n",
       "4  The Devilfire Empire  Cobra Island  1010293_1      7         1       3064   \n",
       "\n",
       "   deviceLabel  affiliateLabel  bookerCountryLabel  hotelCountryLabel  \n",
       "0            0             131                   2                 60  \n",
       "1            0             131                   2                 60  \n",
       "2            0             131                   2                 59  \n",
       "3            0             131                   2                 60  \n",
       "4            1             122                   4                 36  "
      ],
      "text/html": "<div>\n<style scoped>\n    .dataframe tbody tr th:only-of-type {\n        vertical-align: middle;\n    }\n\n    .dataframe tbody tr th {\n        vertical-align: top;\n    }\n\n    .dataframe thead th {\n        text-align: right;\n    }\n</style>\n<table border=\"1\" class=\"dataframe\">\n  <thead>\n    <tr style=\"text-align: right;\">\n      <th></th>\n      <th>user_id</th>\n      <th>checkin</th>\n      <th>checkout</th>\n      <th>city_id</th>\n      <th>device_class</th>\n      <th>affiliate_id</th>\n      <th>booker_country</th>\n      <th>hotel_country</th>\n      <th>utrip_id</th>\n      <th>Month</th>\n      <th>Duration</th>\n      <th>cityLabel</th>\n      <th>deviceLabel</th>\n      <th>affiliateLabel</th>\n      <th>bookerCountryLabel</th>\n      <th>hotelCountryLabel</th>\n    </tr>\n  </thead>\n  <tbody>\n    <tr>\n      <th>0</th>\n      <td>1006220</td>\n      <td>2016-04-09</td>\n      <td>2016-04-11</td>\n      <td>31114</td>\n      <td>desktop</td>\n      <td>384</td>\n      <td>Gondal</td>\n      <td>Gondal</td>\n      <td>1006220_1</td>\n      <td>4</td>\n      <td>2</td>\n      <td>17798</td>\n      <td>0</td>\n      <td>131</td>\n      <td>2</td>\n      <td>60</td>\n    </tr>\n    <tr>\n      <th>1</th>\n      <td>1006220</td>\n      <td>2016-04-11</td>\n      <td>2016-04-12</td>\n      <td>39641</td>\n      <td>desktop</td>\n      <td>384</td>\n      <td>Gondal</td>\n      <td>Gondal</td>\n      <td>1006220_1</td>\n      <td>4</td>\n      <td>1</td>\n      <td>22669</td>\n      <td>0</td>\n      <td>131</td>\n      <td>2</td>\n      <td>60</td>\n    </tr>\n    <tr>\n      <th>2</th>\n      <td>1006220</td>\n      <td>2016-04-12</td>\n      <td>2016-04-16</td>\n      <td>20232</td>\n      <td>desktop</td>\n      <td>384</td>\n      <td>Gondal</td>\n      <td>Glubbdubdrib</td>\n      <td>1006220_1</td>\n      <td>4</td>\n      <td>4</td>\n      <td>11574</td>\n      <td>0</td>\n      <td>131</td>\n      <td>2</td>\n      <td>59</td>\n    </tr>\n    <tr>\n      <th>3</th>\n      <td>1006220</td>\n      <td>2016-04-16</td>\n      <td>2016-04-17</td>\n      <td>24144</td>\n      <td>desktop</td>\n      <td>384</td>\n      <td>Gondal</td>\n      <td>Gondal</td>\n      <td>1006220_1</td>\n      <td>4</td>\n      <td>1</td>\n      <td>13853</td>\n      <td>0</td>\n      <td>131</td>\n      <td>2</td>\n      <td>60</td>\n    </tr>\n    <tr>\n      <th>4</th>\n      <td>1010293</td>\n      <td>2016-07-09</td>\n      <td>2016-07-10</td>\n      <td>5325</td>\n      <td>mobile</td>\n      <td>359</td>\n      <td>The Devilfire Empire</td>\n      <td>Cobra Island</td>\n      <td>1010293_1</td>\n      <td>7</td>\n      <td>1</td>\n      <td>3064</td>\n      <td>1</td>\n      <td>122</td>\n      <td>4</td>\n      <td>36</td>\n    </tr>\n  </tbody>\n</table>\n</div>"
     },
     "metadata": {},
     "execution_count": 16
    }
   ],
   "source": [
    "df.head()"
   ]
  },
  {
   "cell_type": "code",
   "execution_count": 17,
   "metadata": {},
   "outputs": [
    {
     "output_type": "execute_result",
     "data": {
      "text/plain": [
       "numpy.int64"
      ]
     },
     "metadata": {},
     "execution_count": 17
    }
   ],
   "source": [
    "type(df['Duration'][0])"
   ]
  },
  {
   "cell_type": "code",
   "execution_count": 18,
   "metadata": {},
   "outputs": [],
   "source": [
    "dfnumerical = df[['Month', 'Duration', 'cityLabel', 'deviceLabel', 'affiliateLabel', 'bookerCountryLabel', 'hotelCountryLabel']]"
   ]
  },
  {
   "cell_type": "code",
   "execution_count": 19,
   "metadata": {},
   "outputs": [
    {
     "output_type": "execute_result",
     "data": {
      "text/plain": [
       "<AxesSubplot:>"
      ]
     },
     "metadata": {},
     "execution_count": 19
    },
    {
     "output_type": "display_data",
     "data": {
      "text/plain": "<Figure size 432x288 with 2 Axes>",
      "image/svg+xml": "<?xml version=\"1.0\" encoding=\"utf-8\" standalone=\"no\"?>\n<!DOCTYPE svg PUBLIC \"-//W3C//DTD SVG 1.1//EN\"\n  \"http://www.w3.org/Graphics/SVG/1.1/DTD/svg11.dtd\">\n<!-- Created with matplotlib (https://matplotlib.org/) -->\n<svg height=\"343.623594pt\" version=\"1.1\" viewBox=\"0 0 440.7395 343.623594\" width=\"440.7395pt\" xmlns=\"http://www.w3.org/2000/svg\" xmlns:xlink=\"http://www.w3.org/1999/xlink\">\n <metadata>\n  <rdf:RDF xmlns:cc=\"http://creativecommons.org/ns#\" xmlns:dc=\"http://purl.org/dc/elements/1.1/\" xmlns:rdf=\"http://www.w3.org/1999/02/22-rdf-syntax-ns#\">\n   <cc:Work>\n    <dc:type rdf:resource=\"http://purl.org/dc/dcmitype/StillImage\"/>\n    <dc:date>2021-01-10T18:30:01.932602</dc:date>\n    <dc:format>image/svg+xml</dc:format>\n    <dc:creator>\n     <cc:Agent>\n      <dc:title>Matplotlib v3.3.3, https://matplotlib.org/</dc:title>\n     </cc:Agent>\n    </dc:creator>\n   </cc:Work>\n  </rdf:RDF>\n </metadata>\n <defs>\n  <style type=\"text/css\">*{stroke-linecap:butt;stroke-linejoin:round;}</style>\n </defs>\n <g id=\"figure_1\">\n  <g id=\"patch_1\">\n   <path d=\"M 0 343.623594 \nL 440.7395 343.623594 \nL 440.7395 0 \nL 0 0 \nz\n\" style=\"fill:none;\"/>\n  </g>\n  <g id=\"axes_1\">\n   <g id=\"patch_2\">\n    <path d=\"M 115.184375 228.439219 \nL 383.024375 228.439219 \nL 383.024375 10.999219 \nL 115.184375 10.999219 \nz\n\" style=\"fill:#ffffff;\"/>\n   </g>\n   <g id=\"QuadMesh_1\">\n    <path clip-path=\"url(#p0198b1985d)\" d=\"M 115.184375 10.999219 \nL 153.447232 10.999219 \nL 153.447232 42.062076 \nL 115.184375 42.062076 \nL 115.184375 10.999219 \n\" style=\"fill:#faebdd;\"/>\n    <path clip-path=\"url(#p0198b1985d)\" d=\"M 153.447232 10.999219 \nL 191.710089 10.999219 \nL 191.710089 42.062076 \nL 153.447232 42.062076 \nL 153.447232 10.999219 \n\" style=\"fill:#401b44;\"/>\n    <path clip-path=\"url(#p0198b1985d)\" d=\"M 191.710089 10.999219 \nL 229.972946 10.999219 \nL 229.972946 42.062076 \nL 191.710089 42.062076 \nL 191.710089 10.999219 \n\" style=\"fill:#3f1b43;\"/>\n    <path clip-path=\"url(#p0198b1985d)\" d=\"M 229.972946 10.999219 \nL 268.235804 10.999219 \nL 268.235804 42.062076 \nL 229.972946 42.062076 \nL 229.972946 10.999219 \n\" style=\"fill:#3d1a42;\"/>\n    <path clip-path=\"url(#p0198b1985d)\" d=\"M 268.235804 10.999219 \nL 306.498661 10.999219 \nL 306.498661 42.062076 \nL 268.235804 42.062076 \nL 268.235804 10.999219 \n\" style=\"fill:#3c1a42;\"/>\n    <path clip-path=\"url(#p0198b1985d)\" d=\"M 306.498661 10.999219 \nL 344.761518 10.999219 \nL 344.761518 42.062076 \nL 306.498661 42.062076 \nL 306.498661 10.999219 \n\" style=\"fill:#241432;\"/>\n    <path clip-path=\"url(#p0198b1985d)\" d=\"M 344.761518 10.999219 \nL 383.024375 10.999219 \nL 383.024375 42.062076 \nL 344.761518 42.062076 \nL 344.761518 10.999219 \n\" style=\"fill:#30173a;\"/>\n    <path clip-path=\"url(#p0198b1985d)\" d=\"M 115.184375 42.062076 \nL 153.447232 42.062076 \nL 153.447232 73.124933 \nL 115.184375 73.124933 \nL 115.184375 42.062076 \n\" style=\"fill:#401b44;\"/>\n    <path clip-path=\"url(#p0198b1985d)\" d=\"M 153.447232 42.062076 \nL 191.710089 42.062076 \nL 191.710089 73.124933 \nL 153.447232 73.124933 \nL 153.447232 42.062076 \n\" style=\"fill:#faebdd;\"/>\n    <path clip-path=\"url(#p0198b1985d)\" d=\"M 191.710089 42.062076 \nL 229.972946 42.062076 \nL 229.972946 73.124933 \nL 191.710089 73.124933 \nL 191.710089 42.062076 \n\" style=\"fill:#3d1a42;\"/>\n    <path clip-path=\"url(#p0198b1985d)\" d=\"M 229.972946 42.062076 \nL 268.235804 42.062076 \nL 268.235804 73.124933 \nL 229.972946 73.124933 \nL 229.972946 42.062076 \n\" style=\"fill:#2e1739;\"/>\n    <path clip-path=\"url(#p0198b1985d)\" d=\"M 268.235804 42.062076 \nL 306.498661 42.062076 \nL 306.498661 73.124933 \nL 268.235804 73.124933 \nL 268.235804 42.062076 \n\" style=\"fill:#421b45;\"/>\n    <path clip-path=\"url(#p0198b1985d)\" d=\"M 306.498661 42.062076 \nL 344.761518 42.062076 \nL 344.761518 73.124933 \nL 306.498661 73.124933 \nL 306.498661 42.062076 \n\" style=\"fill:#33183c;\"/>\n    <path clip-path=\"url(#p0198b1985d)\" d=\"M 344.761518 42.062076 \nL 383.024375 42.062076 \nL 383.024375 73.124933 \nL 344.761518 73.124933 \nL 344.761518 42.062076 \n\" style=\"fill:#34193d;\"/>\n    <path clip-path=\"url(#p0198b1985d)\" d=\"M 115.184375 73.124933 \nL 153.447232 73.124933 \nL 153.447232 104.18779 \nL 115.184375 104.18779 \nL 115.184375 73.124933 \n\" style=\"fill:#3f1b43;\"/>\n    <path clip-path=\"url(#p0198b1985d)\" d=\"M 153.447232 73.124933 \nL 191.710089 73.124933 \nL 191.710089 104.18779 \nL 153.447232 104.18779 \nL 153.447232 73.124933 \n\" style=\"fill:#3d1a42;\"/>\n    <path clip-path=\"url(#p0198b1985d)\" d=\"M 191.710089 73.124933 \nL 229.972946 73.124933 \nL 229.972946 104.18779 \nL 191.710089 104.18779 \nL 191.710089 73.124933 \n\" style=\"fill:#faebdd;\"/>\n    <path clip-path=\"url(#p0198b1985d)\" d=\"M 229.972946 73.124933 \nL 268.235804 73.124933 \nL 268.235804 104.18779 \nL 229.972946 104.18779 \nL 229.972946 73.124933 \n\" style=\"fill:#3a1a41;\"/>\n    <path clip-path=\"url(#p0198b1985d)\" d=\"M 268.235804 73.124933 \nL 306.498661 73.124933 \nL 306.498661 104.18779 \nL 268.235804 104.18779 \nL 268.235804 73.124933 \n\" style=\"fill:#3d1a42;\"/>\n    <path clip-path=\"url(#p0198b1985d)\" d=\"M 306.498661 73.124933 \nL 344.761518 73.124933 \nL 344.761518 104.18779 \nL 306.498661 104.18779 \nL 306.498661 73.124933 \n\" style=\"fill:#3a1a41;\"/>\n    <path clip-path=\"url(#p0198b1985d)\" d=\"M 344.761518 73.124933 \nL 383.024375 73.124933 \nL 383.024375 104.18779 \nL 344.761518 104.18779 \nL 344.761518 73.124933 \n\" style=\"fill:#3d1a42;\"/>\n    <path clip-path=\"url(#p0198b1985d)\" d=\"M 115.184375 104.18779 \nL 153.447232 104.18779 \nL 153.447232 135.250647 \nL 115.184375 135.250647 \nL 115.184375 104.18779 \n\" style=\"fill:#3d1a42;\"/>\n    <path clip-path=\"url(#p0198b1985d)\" d=\"M 153.447232 104.18779 \nL 191.710089 104.18779 \nL 191.710089 135.250647 \nL 153.447232 135.250647 \nL 153.447232 104.18779 \n\" style=\"fill:#2e1739;\"/>\n    <path clip-path=\"url(#p0198b1985d)\" d=\"M 191.710089 104.18779 \nL 229.972946 104.18779 \nL 229.972946 135.250647 \nL 191.710089 135.250647 \nL 191.710089 104.18779 \n\" style=\"fill:#3a1a41;\"/>\n    <path clip-path=\"url(#p0198b1985d)\" d=\"M 229.972946 104.18779 \nL 268.235804 104.18779 \nL 268.235804 135.250647 \nL 229.972946 135.250647 \nL 229.972946 104.18779 \n\" style=\"fill:#faebdd;\"/>\n    <path clip-path=\"url(#p0198b1985d)\" d=\"M 268.235804 104.18779 \nL 306.498661 104.18779 \nL 306.498661 135.250647 \nL 268.235804 135.250647 \nL 268.235804 104.18779 \n\" style=\"fill:#03051a;\"/>\n    <path clip-path=\"url(#p0198b1985d)\" d=\"M 306.498661 104.18779 \nL 344.761518 104.18779 \nL 344.761518 135.250647 \nL 306.498661 135.250647 \nL 306.498661 104.18779 \n\" style=\"fill:#4c1d4b;\"/>\n    <path clip-path=\"url(#p0198b1985d)\" d=\"M 344.761518 104.18779 \nL 383.024375 104.18779 \nL 383.024375 135.250647 \nL 344.761518 135.250647 \nL 344.761518 104.18779 \n\" style=\"fill:#421b45;\"/>\n    <path clip-path=\"url(#p0198b1985d)\" d=\"M 115.184375 135.250647 \nL 153.447232 135.250647 \nL 153.447232 166.313504 \nL 115.184375 166.313504 \nL 115.184375 135.250647 \n\" style=\"fill:#3c1a42;\"/>\n    <path clip-path=\"url(#p0198b1985d)\" d=\"M 153.447232 135.250647 \nL 191.710089 135.250647 \nL 191.710089 166.313504 \nL 153.447232 166.313504 \nL 153.447232 135.250647 \n\" style=\"fill:#421b45;\"/>\n    <path clip-path=\"url(#p0198b1985d)\" d=\"M 191.710089 135.250647 \nL 229.972946 135.250647 \nL 229.972946 166.313504 \nL 191.710089 166.313504 \nL 191.710089 135.250647 \n\" style=\"fill:#3d1a42;\"/>\n    <path clip-path=\"url(#p0198b1985d)\" d=\"M 229.972946 135.250647 \nL 268.235804 135.250647 \nL 268.235804 166.313504 \nL 229.972946 166.313504 \nL 229.972946 135.250647 \n\" style=\"fill:#03051a;\"/>\n    <path clip-path=\"url(#p0198b1985d)\" d=\"M 268.235804 135.250647 \nL 306.498661 135.250647 \nL 306.498661 166.313504 \nL 268.235804 166.313504 \nL 268.235804 135.250647 \n\" style=\"fill:#faebdd;\"/>\n    <path clip-path=\"url(#p0198b1985d)\" d=\"M 306.498661 135.250647 \nL 344.761518 135.250647 \nL 344.761518 166.313504 \nL 306.498661 166.313504 \nL 306.498661 135.250647 \n\" style=\"fill:#0d0a21;\"/>\n    <path clip-path=\"url(#p0198b1985d)\" d=\"M 344.761518 135.250647 \nL 383.024375 135.250647 \nL 383.024375 166.313504 \nL 344.761518 166.313504 \nL 344.761518 135.250647 \n\" style=\"fill:#3d1a42;\"/>\n    <path clip-path=\"url(#p0198b1985d)\" d=\"M 115.184375 166.313504 \nL 153.447232 166.313504 \nL 153.447232 197.376362 \nL 115.184375 197.376362 \nL 115.184375 166.313504 \n\" style=\"fill:#241432;\"/>\n    <path clip-path=\"url(#p0198b1985d)\" d=\"M 153.447232 166.313504 \nL 191.710089 166.313504 \nL 191.710089 197.376362 \nL 153.447232 197.376362 \nL 153.447232 166.313504 \n\" style=\"fill:#33183c;\"/>\n    <path clip-path=\"url(#p0198b1985d)\" d=\"M 191.710089 166.313504 \nL 229.972946 166.313504 \nL 229.972946 197.376362 \nL 191.710089 197.376362 \nL 191.710089 166.313504 \n\" style=\"fill:#3a1a41;\"/>\n    <path clip-path=\"url(#p0198b1985d)\" d=\"M 229.972946 166.313504 \nL 268.235804 166.313504 \nL 268.235804 197.376362 \nL 229.972946 197.376362 \nL 229.972946 166.313504 \n\" style=\"fill:#4c1d4b;\"/>\n    <path clip-path=\"url(#p0198b1985d)\" d=\"M 268.235804 166.313504 \nL 306.498661 166.313504 \nL 306.498661 197.376362 \nL 268.235804 197.376362 \nL 268.235804 166.313504 \n\" style=\"fill:#0d0a21;\"/>\n    <path clip-path=\"url(#p0198b1985d)\" d=\"M 306.498661 166.313504 \nL 344.761518 166.313504 \nL 344.761518 197.376362 \nL 306.498661 197.376362 \nL 306.498661 166.313504 \n\" style=\"fill:#faebdd;\"/>\n    <path clip-path=\"url(#p0198b1985d)\" d=\"M 344.761518 166.313504 \nL 383.024375 166.313504 \nL 383.024375 197.376362 \nL 344.761518 197.376362 \nL 344.761518 166.313504 \n\" style=\"fill:#421b45;\"/>\n    <path clip-path=\"url(#p0198b1985d)\" d=\"M 115.184375 197.376362 \nL 153.447232 197.376362 \nL 153.447232 228.439219 \nL 115.184375 228.439219 \nL 115.184375 197.376362 \n\" style=\"fill:#30173a;\"/>\n    <path clip-path=\"url(#p0198b1985d)\" d=\"M 153.447232 197.376362 \nL 191.710089 197.376362 \nL 191.710089 228.439219 \nL 153.447232 228.439219 \nL 153.447232 197.376362 \n\" style=\"fill:#34193d;\"/>\n    <path clip-path=\"url(#p0198b1985d)\" d=\"M 191.710089 197.376362 \nL 229.972946 197.376362 \nL 229.972946 228.439219 \nL 191.710089 228.439219 \nL 191.710089 197.376362 \n\" style=\"fill:#3d1a42;\"/>\n    <path clip-path=\"url(#p0198b1985d)\" d=\"M 229.972946 197.376362 \nL 268.235804 197.376362 \nL 268.235804 228.439219 \nL 229.972946 228.439219 \nL 229.972946 197.376362 \n\" style=\"fill:#421b45;\"/>\n    <path clip-path=\"url(#p0198b1985d)\" d=\"M 268.235804 197.376362 \nL 306.498661 197.376362 \nL 306.498661 228.439219 \nL 268.235804 228.439219 \nL 268.235804 197.376362 \n\" style=\"fill:#3d1a42;\"/>\n    <path clip-path=\"url(#p0198b1985d)\" d=\"M 306.498661 197.376362 \nL 344.761518 197.376362 \nL 344.761518 228.439219 \nL 306.498661 228.439219 \nL 306.498661 197.376362 \n\" style=\"fill:#421b45;\"/>\n    <path clip-path=\"url(#p0198b1985d)\" d=\"M 344.761518 197.376362 \nL 383.024375 197.376362 \nL 383.024375 228.439219 \nL 344.761518 228.439219 \nL 344.761518 197.376362 \n\" style=\"fill:#faebdd;\"/>\n   </g>\n   <g id=\"matplotlib.axis_1\">\n    <g id=\"xtick_1\">\n     <g id=\"line2d_1\">\n      <defs>\n       <path d=\"M 0 0 \nL 0 3.5 \n\" id=\"m93522c97ef\" style=\"stroke:#000000;stroke-width:0.8;\"/>\n      </defs>\n      <g>\n       <use style=\"stroke:#000000;stroke-width:0.8;\" x=\"134.315804\" xlink:href=\"#m93522c97ef\" y=\"228.439219\"/>\n      </g>\n     </g>\n     <g id=\"text_1\">\n      <!-- Month -->\n      <g transform=\"translate(137.075179 266.781406)rotate(-90)scale(0.1 -0.1)\">\n       <defs>\n        <path d=\"M 9.8125 72.90625 \nL 24.515625 72.90625 \nL 43.109375 23.296875 \nL 61.8125 72.90625 \nL 76.515625 72.90625 \nL 76.515625 0 \nL 66.890625 0 \nL 66.890625 64.015625 \nL 48.09375 14.015625 \nL 38.1875 14.015625 \nL 19.390625 64.015625 \nL 19.390625 0 \nL 9.8125 0 \nz\n\" id=\"DejaVuSans-77\"/>\n        <path d=\"M 30.609375 48.390625 \nQ 23.390625 48.390625 19.1875 42.75 \nQ 14.984375 37.109375 14.984375 27.296875 \nQ 14.984375 17.484375 19.15625 11.84375 \nQ 23.34375 6.203125 30.609375 6.203125 \nQ 37.796875 6.203125 41.984375 11.859375 \nQ 46.1875 17.53125 46.1875 27.296875 \nQ 46.1875 37.015625 41.984375 42.703125 \nQ 37.796875 48.390625 30.609375 48.390625 \nz\nM 30.609375 56 \nQ 42.328125 56 49.015625 48.375 \nQ 55.71875 40.765625 55.71875 27.296875 \nQ 55.71875 13.875 49.015625 6.21875 \nQ 42.328125 -1.421875 30.609375 -1.421875 \nQ 18.84375 -1.421875 12.171875 6.21875 \nQ 5.515625 13.875 5.515625 27.296875 \nQ 5.515625 40.765625 12.171875 48.375 \nQ 18.84375 56 30.609375 56 \nz\n\" id=\"DejaVuSans-111\"/>\n        <path d=\"M 54.890625 33.015625 \nL 54.890625 0 \nL 45.90625 0 \nL 45.90625 32.71875 \nQ 45.90625 40.484375 42.875 44.328125 \nQ 39.84375 48.1875 33.796875 48.1875 \nQ 26.515625 48.1875 22.3125 43.546875 \nQ 18.109375 38.921875 18.109375 30.90625 \nL 18.109375 0 \nL 9.078125 0 \nL 9.078125 54.6875 \nL 18.109375 54.6875 \nL 18.109375 46.1875 \nQ 21.34375 51.125 25.703125 53.5625 \nQ 30.078125 56 35.796875 56 \nQ 45.21875 56 50.046875 50.171875 \nQ 54.890625 44.34375 54.890625 33.015625 \nz\n\" id=\"DejaVuSans-110\"/>\n        <path d=\"M 18.3125 70.21875 \nL 18.3125 54.6875 \nL 36.8125 54.6875 \nL 36.8125 47.703125 \nL 18.3125 47.703125 \nL 18.3125 18.015625 \nQ 18.3125 11.328125 20.140625 9.421875 \nQ 21.96875 7.515625 27.59375 7.515625 \nL 36.8125 7.515625 \nL 36.8125 0 \nL 27.59375 0 \nQ 17.1875 0 13.234375 3.875 \nQ 9.28125 7.765625 9.28125 18.015625 \nL 9.28125 47.703125 \nL 2.6875 47.703125 \nL 2.6875 54.6875 \nL 9.28125 54.6875 \nL 9.28125 70.21875 \nz\n\" id=\"DejaVuSans-116\"/>\n        <path d=\"M 54.890625 33.015625 \nL 54.890625 0 \nL 45.90625 0 \nL 45.90625 32.71875 \nQ 45.90625 40.484375 42.875 44.328125 \nQ 39.84375 48.1875 33.796875 48.1875 \nQ 26.515625 48.1875 22.3125 43.546875 \nQ 18.109375 38.921875 18.109375 30.90625 \nL 18.109375 0 \nL 9.078125 0 \nL 9.078125 75.984375 \nL 18.109375 75.984375 \nL 18.109375 46.1875 \nQ 21.34375 51.125 25.703125 53.5625 \nQ 30.078125 56 35.796875 56 \nQ 45.21875 56 50.046875 50.171875 \nQ 54.890625 44.34375 54.890625 33.015625 \nz\n\" id=\"DejaVuSans-104\"/>\n       </defs>\n       <use xlink:href=\"#DejaVuSans-77\"/>\n       <use x=\"86.279297\" xlink:href=\"#DejaVuSans-111\"/>\n       <use x=\"147.460938\" xlink:href=\"#DejaVuSans-110\"/>\n       <use x=\"210.839844\" xlink:href=\"#DejaVuSans-116\"/>\n       <use x=\"250.048828\" xlink:href=\"#DejaVuSans-104\"/>\n      </g>\n     </g>\n    </g>\n    <g id=\"xtick_2\">\n     <g id=\"line2d_2\">\n      <g>\n       <use style=\"stroke:#000000;stroke-width:0.8;\" x=\"172.578661\" xlink:href=\"#m93522c97ef\" y=\"228.439219\"/>\n      </g>\n     </g>\n     <g id=\"text_2\">\n      <!-- Duration -->\n      <g transform=\"translate(175.338036 278.870469)rotate(-90)scale(0.1 -0.1)\">\n       <defs>\n        <path d=\"M 19.671875 64.796875 \nL 19.671875 8.109375 \nL 31.59375 8.109375 \nQ 46.6875 8.109375 53.6875 14.9375 \nQ 60.6875 21.78125 60.6875 36.53125 \nQ 60.6875 51.171875 53.6875 57.984375 \nQ 46.6875 64.796875 31.59375 64.796875 \nz\nM 9.8125 72.90625 \nL 30.078125 72.90625 \nQ 51.265625 72.90625 61.171875 64.09375 \nQ 71.09375 55.28125 71.09375 36.53125 \nQ 71.09375 17.671875 61.125 8.828125 \nQ 51.171875 0 30.078125 0 \nL 9.8125 0 \nz\n\" id=\"DejaVuSans-68\"/>\n        <path d=\"M 8.5 21.578125 \nL 8.5 54.6875 \nL 17.484375 54.6875 \nL 17.484375 21.921875 \nQ 17.484375 14.15625 20.5 10.265625 \nQ 23.53125 6.390625 29.59375 6.390625 \nQ 36.859375 6.390625 41.078125 11.03125 \nQ 45.3125 15.671875 45.3125 23.6875 \nL 45.3125 54.6875 \nL 54.296875 54.6875 \nL 54.296875 0 \nL 45.3125 0 \nL 45.3125 8.40625 \nQ 42.046875 3.421875 37.71875 1 \nQ 33.40625 -1.421875 27.6875 -1.421875 \nQ 18.265625 -1.421875 13.375 4.4375 \nQ 8.5 10.296875 8.5 21.578125 \nz\nM 31.109375 56 \nz\n\" id=\"DejaVuSans-117\"/>\n        <path d=\"M 41.109375 46.296875 \nQ 39.59375 47.171875 37.8125 47.578125 \nQ 36.03125 48 33.890625 48 \nQ 26.265625 48 22.1875 43.046875 \nQ 18.109375 38.09375 18.109375 28.8125 \nL 18.109375 0 \nL 9.078125 0 \nL 9.078125 54.6875 \nL 18.109375 54.6875 \nL 18.109375 46.1875 \nQ 20.953125 51.171875 25.484375 53.578125 \nQ 30.03125 56 36.53125 56 \nQ 37.453125 56 38.578125 55.875 \nQ 39.703125 55.765625 41.0625 55.515625 \nz\n\" id=\"DejaVuSans-114\"/>\n        <path d=\"M 34.28125 27.484375 \nQ 23.390625 27.484375 19.1875 25 \nQ 14.984375 22.515625 14.984375 16.5 \nQ 14.984375 11.71875 18.140625 8.90625 \nQ 21.296875 6.109375 26.703125 6.109375 \nQ 34.1875 6.109375 38.703125 11.40625 \nQ 43.21875 16.703125 43.21875 25.484375 \nL 43.21875 27.484375 \nz\nM 52.203125 31.203125 \nL 52.203125 0 \nL 43.21875 0 \nL 43.21875 8.296875 \nQ 40.140625 3.328125 35.546875 0.953125 \nQ 30.953125 -1.421875 24.3125 -1.421875 \nQ 15.921875 -1.421875 10.953125 3.296875 \nQ 6 8.015625 6 15.921875 \nQ 6 25.140625 12.171875 29.828125 \nQ 18.359375 34.515625 30.609375 34.515625 \nL 43.21875 34.515625 \nL 43.21875 35.40625 \nQ 43.21875 41.609375 39.140625 45 \nQ 35.0625 48.390625 27.6875 48.390625 \nQ 23 48.390625 18.546875 47.265625 \nQ 14.109375 46.140625 10.015625 43.890625 \nL 10.015625 52.203125 \nQ 14.9375 54.109375 19.578125 55.046875 \nQ 24.21875 56 28.609375 56 \nQ 40.484375 56 46.34375 49.84375 \nQ 52.203125 43.703125 52.203125 31.203125 \nz\n\" id=\"DejaVuSans-97\"/>\n        <path d=\"M 9.421875 54.6875 \nL 18.40625 54.6875 \nL 18.40625 0 \nL 9.421875 0 \nz\nM 9.421875 75.984375 \nL 18.40625 75.984375 \nL 18.40625 64.59375 \nL 9.421875 64.59375 \nz\n\" id=\"DejaVuSans-105\"/>\n       </defs>\n       <use xlink:href=\"#DejaVuSans-68\"/>\n       <use x=\"77.001953\" xlink:href=\"#DejaVuSans-117\"/>\n       <use x=\"140.380859\" xlink:href=\"#DejaVuSans-114\"/>\n       <use x=\"181.494141\" xlink:href=\"#DejaVuSans-97\"/>\n       <use x=\"242.773438\" xlink:href=\"#DejaVuSans-116\"/>\n       <use x=\"281.982422\" xlink:href=\"#DejaVuSans-105\"/>\n       <use x=\"309.765625\" xlink:href=\"#DejaVuSans-111\"/>\n       <use x=\"370.947266\" xlink:href=\"#DejaVuSans-110\"/>\n      </g>\n     </g>\n    </g>\n    <g id=\"xtick_3\">\n     <g id=\"line2d_3\">\n      <g>\n       <use style=\"stroke:#000000;stroke-width:0.8;\" x=\"210.841518\" xlink:href=\"#m93522c97ef\" y=\"228.439219\"/>\n      </g>\n     </g>\n     <g id=\"text_3\">\n      <!-- cityLabel -->\n      <g transform=\"translate(213.600893 280.534531)rotate(-90)scale(0.1 -0.1)\">\n       <defs>\n        <path d=\"M 48.78125 52.59375 \nL 48.78125 44.1875 \nQ 44.96875 46.296875 41.140625 47.34375 \nQ 37.3125 48.390625 33.40625 48.390625 \nQ 24.65625 48.390625 19.8125 42.84375 \nQ 14.984375 37.3125 14.984375 27.296875 \nQ 14.984375 17.28125 19.8125 11.734375 \nQ 24.65625 6.203125 33.40625 6.203125 \nQ 37.3125 6.203125 41.140625 7.25 \nQ 44.96875 8.296875 48.78125 10.40625 \nL 48.78125 2.09375 \nQ 45.015625 0.34375 40.984375 -0.53125 \nQ 36.96875 -1.421875 32.421875 -1.421875 \nQ 20.0625 -1.421875 12.78125 6.34375 \nQ 5.515625 14.109375 5.515625 27.296875 \nQ 5.515625 40.671875 12.859375 48.328125 \nQ 20.21875 56 33.015625 56 \nQ 37.15625 56 41.109375 55.140625 \nQ 45.0625 54.296875 48.78125 52.59375 \nz\n\" id=\"DejaVuSans-99\"/>\n        <path d=\"M 32.171875 -5.078125 \nQ 28.375 -14.84375 24.75 -17.8125 \nQ 21.140625 -20.796875 15.09375 -20.796875 \nL 7.90625 -20.796875 \nL 7.90625 -13.28125 \nL 13.1875 -13.28125 \nQ 16.890625 -13.28125 18.9375 -11.515625 \nQ 21 -9.765625 23.484375 -3.21875 \nL 25.09375 0.875 \nL 2.984375 54.6875 \nL 12.5 54.6875 \nL 29.59375 11.921875 \nL 46.6875 54.6875 \nL 56.203125 54.6875 \nz\n\" id=\"DejaVuSans-121\"/>\n        <path d=\"M 9.8125 72.90625 \nL 19.671875 72.90625 \nL 19.671875 8.296875 \nL 55.171875 8.296875 \nL 55.171875 0 \nL 9.8125 0 \nz\n\" id=\"DejaVuSans-76\"/>\n        <path d=\"M 48.6875 27.296875 \nQ 48.6875 37.203125 44.609375 42.84375 \nQ 40.53125 48.484375 33.40625 48.484375 \nQ 26.265625 48.484375 22.1875 42.84375 \nQ 18.109375 37.203125 18.109375 27.296875 \nQ 18.109375 17.390625 22.1875 11.75 \nQ 26.265625 6.109375 33.40625 6.109375 \nQ 40.53125 6.109375 44.609375 11.75 \nQ 48.6875 17.390625 48.6875 27.296875 \nz\nM 18.109375 46.390625 \nQ 20.953125 51.265625 25.265625 53.625 \nQ 29.59375 56 35.59375 56 \nQ 45.5625 56 51.78125 48.09375 \nQ 58.015625 40.1875 58.015625 27.296875 \nQ 58.015625 14.40625 51.78125 6.484375 \nQ 45.5625 -1.421875 35.59375 -1.421875 \nQ 29.59375 -1.421875 25.265625 0.953125 \nQ 20.953125 3.328125 18.109375 8.203125 \nL 18.109375 0 \nL 9.078125 0 \nL 9.078125 75.984375 \nL 18.109375 75.984375 \nz\n\" id=\"DejaVuSans-98\"/>\n        <path d=\"M 56.203125 29.59375 \nL 56.203125 25.203125 \nL 14.890625 25.203125 \nQ 15.484375 15.921875 20.484375 11.0625 \nQ 25.484375 6.203125 34.421875 6.203125 \nQ 39.59375 6.203125 44.453125 7.46875 \nQ 49.3125 8.734375 54.109375 11.28125 \nL 54.109375 2.78125 \nQ 49.265625 0.734375 44.1875 -0.34375 \nQ 39.109375 -1.421875 33.890625 -1.421875 \nQ 20.796875 -1.421875 13.15625 6.1875 \nQ 5.515625 13.8125 5.515625 26.8125 \nQ 5.515625 40.234375 12.765625 48.109375 \nQ 20.015625 56 32.328125 56 \nQ 43.359375 56 49.78125 48.890625 \nQ 56.203125 41.796875 56.203125 29.59375 \nz\nM 47.21875 32.234375 \nQ 47.125 39.59375 43.09375 43.984375 \nQ 39.0625 48.390625 32.421875 48.390625 \nQ 24.90625 48.390625 20.390625 44.140625 \nQ 15.875 39.890625 15.1875 32.171875 \nz\n\" id=\"DejaVuSans-101\"/>\n        <path d=\"M 9.421875 75.984375 \nL 18.40625 75.984375 \nL 18.40625 0 \nL 9.421875 0 \nz\n\" id=\"DejaVuSans-108\"/>\n       </defs>\n       <use xlink:href=\"#DejaVuSans-99\"/>\n       <use x=\"54.980469\" xlink:href=\"#DejaVuSans-105\"/>\n       <use x=\"82.763672\" xlink:href=\"#DejaVuSans-116\"/>\n       <use x=\"121.972656\" xlink:href=\"#DejaVuSans-121\"/>\n       <use x=\"181.152344\" xlink:href=\"#DejaVuSans-76\"/>\n       <use x=\"236.865234\" xlink:href=\"#DejaVuSans-97\"/>\n       <use x=\"298.144531\" xlink:href=\"#DejaVuSans-98\"/>\n       <use x=\"361.621094\" xlink:href=\"#DejaVuSans-101\"/>\n       <use x=\"423.144531\" xlink:href=\"#DejaVuSans-108\"/>\n      </g>\n     </g>\n    </g>\n    <g id=\"xtick_4\">\n     <g id=\"line2d_4\">\n      <g>\n       <use style=\"stroke:#000000;stroke-width:0.8;\" x=\"249.104375\" xlink:href=\"#m93522c97ef\" y=\"228.439219\"/>\n      </g>\n     </g>\n     <g id=\"text_4\">\n      <!-- deviceLabel -->\n      <g transform=\"translate(251.86375 295.268906)rotate(-90)scale(0.1 -0.1)\">\n       <defs>\n        <path d=\"M 45.40625 46.390625 \nL 45.40625 75.984375 \nL 54.390625 75.984375 \nL 54.390625 0 \nL 45.40625 0 \nL 45.40625 8.203125 \nQ 42.578125 3.328125 38.25 0.953125 \nQ 33.9375 -1.421875 27.875 -1.421875 \nQ 17.96875 -1.421875 11.734375 6.484375 \nQ 5.515625 14.40625 5.515625 27.296875 \nQ 5.515625 40.1875 11.734375 48.09375 \nQ 17.96875 56 27.875 56 \nQ 33.9375 56 38.25 53.625 \nQ 42.578125 51.265625 45.40625 46.390625 \nz\nM 14.796875 27.296875 \nQ 14.796875 17.390625 18.875 11.75 \nQ 22.953125 6.109375 30.078125 6.109375 \nQ 37.203125 6.109375 41.296875 11.75 \nQ 45.40625 17.390625 45.40625 27.296875 \nQ 45.40625 37.203125 41.296875 42.84375 \nQ 37.203125 48.484375 30.078125 48.484375 \nQ 22.953125 48.484375 18.875 42.84375 \nQ 14.796875 37.203125 14.796875 27.296875 \nz\n\" id=\"DejaVuSans-100\"/>\n        <path d=\"M 2.984375 54.6875 \nL 12.5 54.6875 \nL 29.59375 8.796875 \nL 46.6875 54.6875 \nL 56.203125 54.6875 \nL 35.6875 0 \nL 23.484375 0 \nz\n\" id=\"DejaVuSans-118\"/>\n       </defs>\n       <use xlink:href=\"#DejaVuSans-100\"/>\n       <use x=\"63.476562\" xlink:href=\"#DejaVuSans-101\"/>\n       <use x=\"125\" xlink:href=\"#DejaVuSans-118\"/>\n       <use x=\"184.179688\" xlink:href=\"#DejaVuSans-105\"/>\n       <use x=\"211.962891\" xlink:href=\"#DejaVuSans-99\"/>\n       <use x=\"266.943359\" xlink:href=\"#DejaVuSans-101\"/>\n       <use x=\"328.466797\" xlink:href=\"#DejaVuSans-76\"/>\n       <use x=\"384.179688\" xlink:href=\"#DejaVuSans-97\"/>\n       <use x=\"445.458984\" xlink:href=\"#DejaVuSans-98\"/>\n       <use x=\"508.935547\" xlink:href=\"#DejaVuSans-101\"/>\n       <use x=\"570.458984\" xlink:href=\"#DejaVuSans-108\"/>\n      </g>\n     </g>\n    </g>\n    <g id=\"xtick_5\">\n     <g id=\"line2d_5\">\n      <g>\n       <use style=\"stroke:#000000;stroke-width:0.8;\" x=\"287.367232\" xlink:href=\"#m93522c97ef\" y=\"228.439219\"/>\n      </g>\n     </g>\n     <g id=\"text_5\">\n      <!-- affiliateLabel -->\n      <g transform=\"translate(290.126607 300.123594)rotate(-90)scale(0.1 -0.1)\">\n       <defs>\n        <path d=\"M 37.109375 75.984375 \nL 37.109375 68.5 \nL 28.515625 68.5 \nQ 23.6875 68.5 21.796875 66.546875 \nQ 19.921875 64.59375 19.921875 59.515625 \nL 19.921875 54.6875 \nL 34.71875 54.6875 \nL 34.71875 47.703125 \nL 19.921875 47.703125 \nL 19.921875 0 \nL 10.890625 0 \nL 10.890625 47.703125 \nL 2.296875 47.703125 \nL 2.296875 54.6875 \nL 10.890625 54.6875 \nL 10.890625 58.5 \nQ 10.890625 67.625 15.140625 71.796875 \nQ 19.390625 75.984375 28.609375 75.984375 \nz\n\" id=\"DejaVuSans-102\"/>\n       </defs>\n       <use xlink:href=\"#DejaVuSans-97\"/>\n       <use x=\"61.279297\" xlink:href=\"#DejaVuSans-102\"/>\n       <use x=\"96.484375\" xlink:href=\"#DejaVuSans-102\"/>\n       <use x=\"131.689453\" xlink:href=\"#DejaVuSans-105\"/>\n       <use x=\"159.472656\" xlink:href=\"#DejaVuSans-108\"/>\n       <use x=\"187.255859\" xlink:href=\"#DejaVuSans-105\"/>\n       <use x=\"215.039062\" xlink:href=\"#DejaVuSans-97\"/>\n       <use x=\"276.318359\" xlink:href=\"#DejaVuSans-116\"/>\n       <use x=\"315.527344\" xlink:href=\"#DejaVuSans-101\"/>\n       <use x=\"377.050781\" xlink:href=\"#DejaVuSans-76\"/>\n       <use x=\"432.763672\" xlink:href=\"#DejaVuSans-97\"/>\n       <use x=\"494.042969\" xlink:href=\"#DejaVuSans-98\"/>\n       <use x=\"557.519531\" xlink:href=\"#DejaVuSans-101\"/>\n       <use x=\"619.042969\" xlink:href=\"#DejaVuSans-108\"/>\n      </g>\n     </g>\n    </g>\n    <g id=\"xtick_6\">\n     <g id=\"line2d_6\">\n      <g>\n       <use style=\"stroke:#000000;stroke-width:0.8;\" x=\"325.630089\" xlink:href=\"#m93522c97ef\" y=\"228.439219\"/>\n      </g>\n     </g>\n     <g id=\"text_6\">\n      <!-- bookerCountryLabel -->\n      <g transform=\"translate(328.389464 336.423594)rotate(-90)scale(0.1 -0.1)\">\n       <defs>\n        <path d=\"M 9.078125 75.984375 \nL 18.109375 75.984375 \nL 18.109375 31.109375 \nL 44.921875 54.6875 \nL 56.390625 54.6875 \nL 27.390625 29.109375 \nL 57.625 0 \nL 45.90625 0 \nL 18.109375 26.703125 \nL 18.109375 0 \nL 9.078125 0 \nz\n\" id=\"DejaVuSans-107\"/>\n        <path d=\"M 64.40625 67.28125 \nL 64.40625 56.890625 \nQ 59.421875 61.53125 53.78125 63.8125 \nQ 48.140625 66.109375 41.796875 66.109375 \nQ 29.296875 66.109375 22.65625 58.46875 \nQ 16.015625 50.828125 16.015625 36.375 \nQ 16.015625 21.96875 22.65625 14.328125 \nQ 29.296875 6.6875 41.796875 6.6875 \nQ 48.140625 6.6875 53.78125 8.984375 \nQ 59.421875 11.28125 64.40625 15.921875 \nL 64.40625 5.609375 \nQ 59.234375 2.09375 53.4375 0.328125 \nQ 47.65625 -1.421875 41.21875 -1.421875 \nQ 24.65625 -1.421875 15.125 8.703125 \nQ 5.609375 18.84375 5.609375 36.375 \nQ 5.609375 53.953125 15.125 64.078125 \nQ 24.65625 74.21875 41.21875 74.21875 \nQ 47.75 74.21875 53.53125 72.484375 \nQ 59.328125 70.75 64.40625 67.28125 \nz\n\" id=\"DejaVuSans-67\"/>\n       </defs>\n       <use xlink:href=\"#DejaVuSans-98\"/>\n       <use x=\"63.476562\" xlink:href=\"#DejaVuSans-111\"/>\n       <use x=\"124.658203\" xlink:href=\"#DejaVuSans-111\"/>\n       <use x=\"185.839844\" xlink:href=\"#DejaVuSans-107\"/>\n       <use x=\"240.125\" xlink:href=\"#DejaVuSans-101\"/>\n       <use x=\"301.648438\" xlink:href=\"#DejaVuSans-114\"/>\n       <use x=\"342.761719\" xlink:href=\"#DejaVuSans-67\"/>\n       <use x=\"412.585938\" xlink:href=\"#DejaVuSans-111\"/>\n       <use x=\"473.767578\" xlink:href=\"#DejaVuSans-117\"/>\n       <use x=\"537.146484\" xlink:href=\"#DejaVuSans-110\"/>\n       <use x=\"600.525391\" xlink:href=\"#DejaVuSans-116\"/>\n       <use x=\"639.734375\" xlink:href=\"#DejaVuSans-114\"/>\n       <use x=\"680.847656\" xlink:href=\"#DejaVuSans-121\"/>\n       <use x=\"740.027344\" xlink:href=\"#DejaVuSans-76\"/>\n       <use x=\"795.740234\" xlink:href=\"#DejaVuSans-97\"/>\n       <use x=\"857.019531\" xlink:href=\"#DejaVuSans-98\"/>\n       <use x=\"920.496094\" xlink:href=\"#DejaVuSans-101\"/>\n       <use x=\"982.019531\" xlink:href=\"#DejaVuSans-108\"/>\n      </g>\n     </g>\n    </g>\n    <g id=\"xtick_7\">\n     <g id=\"line2d_7\">\n      <g>\n       <use style=\"stroke:#000000;stroke-width:0.8;\" x=\"363.892946\" xlink:href=\"#m93522c97ef\" y=\"228.439219\"/>\n      </g>\n     </g>\n     <g id=\"text_7\">\n      <!-- hotelCountryLabel -->\n      <g transform=\"translate(366.652321 327.453281)rotate(-90)scale(0.1 -0.1)\">\n       <use xlink:href=\"#DejaVuSans-104\"/>\n       <use x=\"63.378906\" xlink:href=\"#DejaVuSans-111\"/>\n       <use x=\"124.560547\" xlink:href=\"#DejaVuSans-116\"/>\n       <use x=\"163.769531\" xlink:href=\"#DejaVuSans-101\"/>\n       <use x=\"225.292969\" xlink:href=\"#DejaVuSans-108\"/>\n       <use x=\"253.076172\" xlink:href=\"#DejaVuSans-67\"/>\n       <use x=\"322.900391\" xlink:href=\"#DejaVuSans-111\"/>\n       <use x=\"384.082031\" xlink:href=\"#DejaVuSans-117\"/>\n       <use x=\"447.460938\" xlink:href=\"#DejaVuSans-110\"/>\n       <use x=\"510.839844\" xlink:href=\"#DejaVuSans-116\"/>\n       <use x=\"550.048828\" xlink:href=\"#DejaVuSans-114\"/>\n       <use x=\"591.162109\" xlink:href=\"#DejaVuSans-121\"/>\n       <use x=\"650.341797\" xlink:href=\"#DejaVuSans-76\"/>\n       <use x=\"706.054688\" xlink:href=\"#DejaVuSans-97\"/>\n       <use x=\"767.333984\" xlink:href=\"#DejaVuSans-98\"/>\n       <use x=\"830.810547\" xlink:href=\"#DejaVuSans-101\"/>\n       <use x=\"892.333984\" xlink:href=\"#DejaVuSans-108\"/>\n      </g>\n     </g>\n    </g>\n   </g>\n   <g id=\"matplotlib.axis_2\">\n    <g id=\"ytick_1\">\n     <g id=\"line2d_8\">\n      <defs>\n       <path d=\"M 0 0 \nL -3.5 0 \n\" id=\"m0a477ffc41\" style=\"stroke:#000000;stroke-width:0.8;\"/>\n      </defs>\n      <g>\n       <use style=\"stroke:#000000;stroke-width:0.8;\" x=\"115.184375\" xlink:href=\"#m0a477ffc41\" y=\"26.530647\"/>\n      </g>\n     </g>\n     <g id=\"text_8\">\n      <!-- Month -->\n      <g transform=\"translate(76.842187 30.329866)scale(0.1 -0.1)\">\n       <use xlink:href=\"#DejaVuSans-77\"/>\n       <use x=\"86.279297\" xlink:href=\"#DejaVuSans-111\"/>\n       <use x=\"147.460938\" xlink:href=\"#DejaVuSans-110\"/>\n       <use x=\"210.839844\" xlink:href=\"#DejaVuSans-116\"/>\n       <use x=\"250.048828\" xlink:href=\"#DejaVuSans-104\"/>\n      </g>\n     </g>\n    </g>\n    <g id=\"ytick_2\">\n     <g id=\"line2d_9\">\n      <g>\n       <use style=\"stroke:#000000;stroke-width:0.8;\" x=\"115.184375\" xlink:href=\"#m0a477ffc41\" y=\"57.593504\"/>\n      </g>\n     </g>\n     <g id=\"text_9\">\n      <!-- Duration -->\n      <g transform=\"translate(64.753125 61.392723)scale(0.1 -0.1)\">\n       <use xlink:href=\"#DejaVuSans-68\"/>\n       <use x=\"77.001953\" xlink:href=\"#DejaVuSans-117\"/>\n       <use x=\"140.380859\" xlink:href=\"#DejaVuSans-114\"/>\n       <use x=\"181.494141\" xlink:href=\"#DejaVuSans-97\"/>\n       <use x=\"242.773438\" xlink:href=\"#DejaVuSans-116\"/>\n       <use x=\"281.982422\" xlink:href=\"#DejaVuSans-105\"/>\n       <use x=\"309.765625\" xlink:href=\"#DejaVuSans-111\"/>\n       <use x=\"370.947266\" xlink:href=\"#DejaVuSans-110\"/>\n      </g>\n     </g>\n    </g>\n    <g id=\"ytick_3\">\n     <g id=\"line2d_10\">\n      <g>\n       <use style=\"stroke:#000000;stroke-width:0.8;\" x=\"115.184375\" xlink:href=\"#m0a477ffc41\" y=\"88.656362\"/>\n      </g>\n     </g>\n     <g id=\"text_10\">\n      <!-- cityLabel -->\n      <g transform=\"translate(63.089062 92.45558)scale(0.1 -0.1)\">\n       <use xlink:href=\"#DejaVuSans-99\"/>\n       <use x=\"54.980469\" xlink:href=\"#DejaVuSans-105\"/>\n       <use x=\"82.763672\" xlink:href=\"#DejaVuSans-116\"/>\n       <use x=\"121.972656\" xlink:href=\"#DejaVuSans-121\"/>\n       <use x=\"181.152344\" xlink:href=\"#DejaVuSans-76\"/>\n       <use x=\"236.865234\" xlink:href=\"#DejaVuSans-97\"/>\n       <use x=\"298.144531\" xlink:href=\"#DejaVuSans-98\"/>\n       <use x=\"361.621094\" xlink:href=\"#DejaVuSans-101\"/>\n       <use x=\"423.144531\" xlink:href=\"#DejaVuSans-108\"/>\n      </g>\n     </g>\n    </g>\n    <g id=\"ytick_4\">\n     <g id=\"line2d_11\">\n      <g>\n       <use style=\"stroke:#000000;stroke-width:0.8;\" x=\"115.184375\" xlink:href=\"#m0a477ffc41\" y=\"119.719219\"/>\n      </g>\n     </g>\n     <g id=\"text_11\">\n      <!-- deviceLabel -->\n      <g transform=\"translate(48.354687 123.518438)scale(0.1 -0.1)\">\n       <use xlink:href=\"#DejaVuSans-100\"/>\n       <use x=\"63.476562\" xlink:href=\"#DejaVuSans-101\"/>\n       <use x=\"125\" xlink:href=\"#DejaVuSans-118\"/>\n       <use x=\"184.179688\" xlink:href=\"#DejaVuSans-105\"/>\n       <use x=\"211.962891\" xlink:href=\"#DejaVuSans-99\"/>\n       <use x=\"266.943359\" xlink:href=\"#DejaVuSans-101\"/>\n       <use x=\"328.466797\" xlink:href=\"#DejaVuSans-76\"/>\n       <use x=\"384.179688\" xlink:href=\"#DejaVuSans-97\"/>\n       <use x=\"445.458984\" xlink:href=\"#DejaVuSans-98\"/>\n       <use x=\"508.935547\" xlink:href=\"#DejaVuSans-101\"/>\n       <use x=\"570.458984\" xlink:href=\"#DejaVuSans-108\"/>\n      </g>\n     </g>\n    </g>\n    <g id=\"ytick_5\">\n     <g id=\"line2d_12\">\n      <g>\n       <use style=\"stroke:#000000;stroke-width:0.8;\" x=\"115.184375\" xlink:href=\"#m0a477ffc41\" y=\"150.782076\"/>\n      </g>\n     </g>\n     <g id=\"text_12\">\n      <!-- affiliateLabel -->\n      <g transform=\"translate(43.5 154.581295)scale(0.1 -0.1)\">\n       <use xlink:href=\"#DejaVuSans-97\"/>\n       <use x=\"61.279297\" xlink:href=\"#DejaVuSans-102\"/>\n       <use x=\"96.484375\" xlink:href=\"#DejaVuSans-102\"/>\n       <use x=\"131.689453\" xlink:href=\"#DejaVuSans-105\"/>\n       <use x=\"159.472656\" xlink:href=\"#DejaVuSans-108\"/>\n       <use x=\"187.255859\" xlink:href=\"#DejaVuSans-105\"/>\n       <use x=\"215.039062\" xlink:href=\"#DejaVuSans-97\"/>\n       <use x=\"276.318359\" xlink:href=\"#DejaVuSans-116\"/>\n       <use x=\"315.527344\" xlink:href=\"#DejaVuSans-101\"/>\n       <use x=\"377.050781\" xlink:href=\"#DejaVuSans-76\"/>\n       <use x=\"432.763672\" xlink:href=\"#DejaVuSans-97\"/>\n       <use x=\"494.042969\" xlink:href=\"#DejaVuSans-98\"/>\n       <use x=\"557.519531\" xlink:href=\"#DejaVuSans-101\"/>\n       <use x=\"619.042969\" xlink:href=\"#DejaVuSans-108\"/>\n      </g>\n     </g>\n    </g>\n    <g id=\"ytick_6\">\n     <g id=\"line2d_13\">\n      <g>\n       <use style=\"stroke:#000000;stroke-width:0.8;\" x=\"115.184375\" xlink:href=\"#m0a477ffc41\" y=\"181.844933\"/>\n      </g>\n     </g>\n     <g id=\"text_13\">\n      <!-- bookerCountryLabel -->\n      <g transform=\"translate(7.2 185.644152)scale(0.1 -0.1)\">\n       <use xlink:href=\"#DejaVuSans-98\"/>\n       <use x=\"63.476562\" xlink:href=\"#DejaVuSans-111\"/>\n       <use x=\"124.658203\" xlink:href=\"#DejaVuSans-111\"/>\n       <use x=\"185.839844\" xlink:href=\"#DejaVuSans-107\"/>\n       <use x=\"240.125\" xlink:href=\"#DejaVuSans-101\"/>\n       <use x=\"301.648438\" xlink:href=\"#DejaVuSans-114\"/>\n       <use x=\"342.761719\" xlink:href=\"#DejaVuSans-67\"/>\n       <use x=\"412.585938\" xlink:href=\"#DejaVuSans-111\"/>\n       <use x=\"473.767578\" xlink:href=\"#DejaVuSans-117\"/>\n       <use x=\"537.146484\" xlink:href=\"#DejaVuSans-110\"/>\n       <use x=\"600.525391\" xlink:href=\"#DejaVuSans-116\"/>\n       <use x=\"639.734375\" xlink:href=\"#DejaVuSans-114\"/>\n       <use x=\"680.847656\" xlink:href=\"#DejaVuSans-121\"/>\n       <use x=\"740.027344\" xlink:href=\"#DejaVuSans-76\"/>\n       <use x=\"795.740234\" xlink:href=\"#DejaVuSans-97\"/>\n       <use x=\"857.019531\" xlink:href=\"#DejaVuSans-98\"/>\n       <use x=\"920.496094\" xlink:href=\"#DejaVuSans-101\"/>\n       <use x=\"982.019531\" xlink:href=\"#DejaVuSans-108\"/>\n      </g>\n     </g>\n    </g>\n    <g id=\"ytick_7\">\n     <g id=\"line2d_14\">\n      <g>\n       <use style=\"stroke:#000000;stroke-width:0.8;\" x=\"115.184375\" xlink:href=\"#m0a477ffc41\" y=\"212.90779\"/>\n      </g>\n     </g>\n     <g id=\"text_14\">\n      <!-- hotelCountryLabel -->\n      <g transform=\"translate(16.170312 216.707009)scale(0.1 -0.1)\">\n       <use xlink:href=\"#DejaVuSans-104\"/>\n       <use x=\"63.378906\" xlink:href=\"#DejaVuSans-111\"/>\n       <use x=\"124.560547\" xlink:href=\"#DejaVuSans-116\"/>\n       <use x=\"163.769531\" xlink:href=\"#DejaVuSans-101\"/>\n       <use x=\"225.292969\" xlink:href=\"#DejaVuSans-108\"/>\n       <use x=\"253.076172\" xlink:href=\"#DejaVuSans-67\"/>\n       <use x=\"322.900391\" xlink:href=\"#DejaVuSans-111\"/>\n       <use x=\"384.082031\" xlink:href=\"#DejaVuSans-117\"/>\n       <use x=\"447.460938\" xlink:href=\"#DejaVuSans-110\"/>\n       <use x=\"510.839844\" xlink:href=\"#DejaVuSans-116\"/>\n       <use x=\"550.048828\" xlink:href=\"#DejaVuSans-114\"/>\n       <use x=\"591.162109\" xlink:href=\"#DejaVuSans-121\"/>\n       <use x=\"650.341797\" xlink:href=\"#DejaVuSans-76\"/>\n       <use x=\"706.054688\" xlink:href=\"#DejaVuSans-97\"/>\n       <use x=\"767.333984\" xlink:href=\"#DejaVuSans-98\"/>\n       <use x=\"830.810547\" xlink:href=\"#DejaVuSans-101\"/>\n       <use x=\"892.333984\" xlink:href=\"#DejaVuSans-108\"/>\n      </g>\n     </g>\n    </g>\n   </g>\n  </g>\n  <g id=\"axes_2\">\n   <g id=\"patch_3\">\n    <path clip-path=\"url(#p83f1d1388e)\" d=\"M 399.764375 228.439219 \nL 399.764375 227.589844 \nL 399.764375 11.848594 \nL 399.764375 10.999219 \nL 410.636375 10.999219 \nL 410.636375 11.848594 \nL 410.636375 227.589844 \nL 410.636375 228.439219 \nz\n\" style=\"fill:#ffffff;stroke:#ffffff;stroke-linejoin:miter;stroke-width:0.01;\"/>\n   </g>\n   <image height=\"218\" id=\"image33066c2549\" transform=\"scale(1 -1)translate(0 -218)\" width=\"11\" x=\"400\" xlink:href=\"data:image/png;base64,\niVBORw0KGgoAAAANSUhEUgAAAAsAAADaCAYAAABwzrisAAABT0lEQVR4nN3awQ3DMAxDUctyl+j+c7Zdwe9AQE3OAkF+yU7ipPr1/q7L6+yq29p1iopXSpk8d+2UjRkBSdloSMCc5xznrgblHI2Y8pR2k3Kw3TEaua0gZqP/sIMWcIYNRHd//WW7KSDZoHbT9pXznFM+NqJgY0i7SdlmQ5SHoLOA168HYRpUTFuBKAuNZEApFs9GQ4orNkg2/Dkbwdm4l062+ys2RHkMjVzAEcqyCJOexcY2z2Cj9ydlA3wkaYgNolGwrpCGKUNxw9ZvylNoSPEmGrC8FZ0oE41cwFjxytk4ORvwsD1FGe5XprzEMwYU5aaAKRtrp2wYuoaj+xyNitFYclgtT/1JGzl0wXaLDTk2xJWSoyFfPYKzMYPGEM80SOf+Tp8MOET58TQaApZ8wk7Oc47Ga4QN+40k1hSZDaQxYhetxwckZaIBAeVsb/0A194rJVBZdlsAAAAASUVORK5CYII=\" y=\"-10\"/>\n   <g id=\"matplotlib.axis_3\"/>\n   <g id=\"matplotlib.axis_4\">\n    <g id=\"ytick_8\">\n     <g id=\"line2d_15\">\n      <defs>\n       <path d=\"M 0 0 \nL 3.5 0 \n\" id=\"m7107daa437\" style=\"stroke:#000000;stroke-width:0.8;\"/>\n      </defs>\n      <g>\n       <use style=\"stroke:#000000;stroke-width:0.8;\" x=\"410.636375\" xlink:href=\"#m7107daa437\" y=\"193.997301\"/>\n      </g>\n     </g>\n     <g id=\"text_15\">\n      <!-- 0.0 -->\n      <g transform=\"translate(417.636375 197.79652)scale(0.1 -0.1)\">\n       <defs>\n        <path d=\"M 31.78125 66.40625 \nQ 24.171875 66.40625 20.328125 58.90625 \nQ 16.5 51.421875 16.5 36.375 \nQ 16.5 21.390625 20.328125 13.890625 \nQ 24.171875 6.390625 31.78125 6.390625 \nQ 39.453125 6.390625 43.28125 13.890625 \nQ 47.125 21.390625 47.125 36.375 \nQ 47.125 51.421875 43.28125 58.90625 \nQ 39.453125 66.40625 31.78125 66.40625 \nz\nM 31.78125 74.21875 \nQ 44.046875 74.21875 50.515625 64.515625 \nQ 56.984375 54.828125 56.984375 36.375 \nQ 56.984375 17.96875 50.515625 8.265625 \nQ 44.046875 -1.421875 31.78125 -1.421875 \nQ 19.53125 -1.421875 13.0625 8.265625 \nQ 6.59375 17.96875 6.59375 36.375 \nQ 6.59375 54.828125 13.0625 64.515625 \nQ 19.53125 74.21875 31.78125 74.21875 \nz\n\" id=\"DejaVuSans-48\"/>\n        <path d=\"M 10.6875 12.40625 \nL 21 12.40625 \nL 21 0 \nL 10.6875 0 \nz\n\" id=\"DejaVuSans-46\"/>\n       </defs>\n       <use xlink:href=\"#DejaVuSans-48\"/>\n       <use x=\"63.623047\" xlink:href=\"#DejaVuSans-46\"/>\n       <use x=\"95.410156\" xlink:href=\"#DejaVuSans-48\"/>\n      </g>\n     </g>\n    </g>\n    <g id=\"ytick_9\">\n     <g id=\"line2d_16\">\n      <g>\n       <use style=\"stroke:#000000;stroke-width:0.8;\" x=\"410.636375\" xlink:href=\"#m7107daa437\" y=\"157.397685\"/>\n      </g>\n     </g>\n     <g id=\"text_16\">\n      <!-- 0.2 -->\n      <g transform=\"translate(417.636375 161.196903)scale(0.1 -0.1)\">\n       <defs>\n        <path d=\"M 19.1875 8.296875 \nL 53.609375 8.296875 \nL 53.609375 0 \nL 7.328125 0 \nL 7.328125 8.296875 \nQ 12.9375 14.109375 22.625 23.890625 \nQ 32.328125 33.6875 34.8125 36.53125 \nQ 39.546875 41.84375 41.421875 45.53125 \nQ 43.3125 49.21875 43.3125 52.78125 \nQ 43.3125 58.59375 39.234375 62.25 \nQ 35.15625 65.921875 28.609375 65.921875 \nQ 23.96875 65.921875 18.8125 64.3125 \nQ 13.671875 62.703125 7.8125 59.421875 \nL 7.8125 69.390625 \nQ 13.765625 71.78125 18.9375 73 \nQ 24.125 74.21875 28.421875 74.21875 \nQ 39.75 74.21875 46.484375 68.546875 \nQ 53.21875 62.890625 53.21875 53.421875 \nQ 53.21875 48.921875 51.53125 44.890625 \nQ 49.859375 40.875 45.40625 35.40625 \nQ 44.1875 33.984375 37.640625 27.21875 \nQ 31.109375 20.453125 19.1875 8.296875 \nz\n\" id=\"DejaVuSans-50\"/>\n       </defs>\n       <use xlink:href=\"#DejaVuSans-48\"/>\n       <use x=\"63.623047\" xlink:href=\"#DejaVuSans-46\"/>\n       <use x=\"95.410156\" xlink:href=\"#DejaVuSans-50\"/>\n      </g>\n     </g>\n    </g>\n    <g id=\"ytick_10\">\n     <g id=\"line2d_17\">\n      <g>\n       <use style=\"stroke:#000000;stroke-width:0.8;\" x=\"410.636375\" xlink:href=\"#m7107daa437\" y=\"120.798068\"/>\n      </g>\n     </g>\n     <g id=\"text_17\">\n      <!-- 0.4 -->\n      <g transform=\"translate(417.636375 124.597287)scale(0.1 -0.1)\">\n       <defs>\n        <path d=\"M 37.796875 64.3125 \nL 12.890625 25.390625 \nL 37.796875 25.390625 \nz\nM 35.203125 72.90625 \nL 47.609375 72.90625 \nL 47.609375 25.390625 \nL 58.015625 25.390625 \nL 58.015625 17.1875 \nL 47.609375 17.1875 \nL 47.609375 0 \nL 37.796875 0 \nL 37.796875 17.1875 \nL 4.890625 17.1875 \nL 4.890625 26.703125 \nz\n\" id=\"DejaVuSans-52\"/>\n       </defs>\n       <use xlink:href=\"#DejaVuSans-48\"/>\n       <use x=\"63.623047\" xlink:href=\"#DejaVuSans-46\"/>\n       <use x=\"95.410156\" xlink:href=\"#DejaVuSans-52\"/>\n      </g>\n     </g>\n    </g>\n    <g id=\"ytick_11\">\n     <g id=\"line2d_18\">\n      <g>\n       <use style=\"stroke:#000000;stroke-width:0.8;\" x=\"410.636375\" xlink:href=\"#m7107daa437\" y=\"84.198452\"/>\n      </g>\n     </g>\n     <g id=\"text_18\">\n      <!-- 0.6 -->\n      <g transform=\"translate(417.636375 87.99767)scale(0.1 -0.1)\">\n       <defs>\n        <path d=\"M 33.015625 40.375 \nQ 26.375 40.375 22.484375 35.828125 \nQ 18.609375 31.296875 18.609375 23.390625 \nQ 18.609375 15.53125 22.484375 10.953125 \nQ 26.375 6.390625 33.015625 6.390625 \nQ 39.65625 6.390625 43.53125 10.953125 \nQ 47.40625 15.53125 47.40625 23.390625 \nQ 47.40625 31.296875 43.53125 35.828125 \nQ 39.65625 40.375 33.015625 40.375 \nz\nM 52.59375 71.296875 \nL 52.59375 62.3125 \nQ 48.875 64.0625 45.09375 64.984375 \nQ 41.3125 65.921875 37.59375 65.921875 \nQ 27.828125 65.921875 22.671875 59.328125 \nQ 17.53125 52.734375 16.796875 39.40625 \nQ 19.671875 43.65625 24.015625 45.921875 \nQ 28.375 48.1875 33.59375 48.1875 \nQ 44.578125 48.1875 50.953125 41.515625 \nQ 57.328125 34.859375 57.328125 23.390625 \nQ 57.328125 12.15625 50.6875 5.359375 \nQ 44.046875 -1.421875 33.015625 -1.421875 \nQ 20.359375 -1.421875 13.671875 8.265625 \nQ 6.984375 17.96875 6.984375 36.375 \nQ 6.984375 53.65625 15.1875 63.9375 \nQ 23.390625 74.21875 37.203125 74.21875 \nQ 40.921875 74.21875 44.703125 73.484375 \nQ 48.484375 72.75 52.59375 71.296875 \nz\n\" id=\"DejaVuSans-54\"/>\n       </defs>\n       <use xlink:href=\"#DejaVuSans-48\"/>\n       <use x=\"63.623047\" xlink:href=\"#DejaVuSans-46\"/>\n       <use x=\"95.410156\" xlink:href=\"#DejaVuSans-54\"/>\n      </g>\n     </g>\n    </g>\n    <g id=\"ytick_12\">\n     <g id=\"line2d_19\">\n      <g>\n       <use style=\"stroke:#000000;stroke-width:0.8;\" x=\"410.636375\" xlink:href=\"#m7107daa437\" y=\"47.598835\"/>\n      </g>\n     </g>\n     <g id=\"text_19\">\n      <!-- 0.8 -->\n      <g transform=\"translate(417.636375 51.398054)scale(0.1 -0.1)\">\n       <defs>\n        <path d=\"M 31.78125 34.625 \nQ 24.75 34.625 20.71875 30.859375 \nQ 16.703125 27.09375 16.703125 20.515625 \nQ 16.703125 13.921875 20.71875 10.15625 \nQ 24.75 6.390625 31.78125 6.390625 \nQ 38.8125 6.390625 42.859375 10.171875 \nQ 46.921875 13.96875 46.921875 20.515625 \nQ 46.921875 27.09375 42.890625 30.859375 \nQ 38.875 34.625 31.78125 34.625 \nz\nM 21.921875 38.8125 \nQ 15.578125 40.375 12.03125 44.71875 \nQ 8.5 49.078125 8.5 55.328125 \nQ 8.5 64.0625 14.71875 69.140625 \nQ 20.953125 74.21875 31.78125 74.21875 \nQ 42.671875 74.21875 48.875 69.140625 \nQ 55.078125 64.0625 55.078125 55.328125 \nQ 55.078125 49.078125 51.53125 44.71875 \nQ 48 40.375 41.703125 38.8125 \nQ 48.828125 37.15625 52.796875 32.3125 \nQ 56.78125 27.484375 56.78125 20.515625 \nQ 56.78125 9.90625 50.3125 4.234375 \nQ 43.84375 -1.421875 31.78125 -1.421875 \nQ 19.734375 -1.421875 13.25 4.234375 \nQ 6.78125 9.90625 6.78125 20.515625 \nQ 6.78125 27.484375 10.78125 32.3125 \nQ 14.796875 37.15625 21.921875 38.8125 \nz\nM 18.3125 54.390625 \nQ 18.3125 48.734375 21.84375 45.5625 \nQ 25.390625 42.390625 31.78125 42.390625 \nQ 38.140625 42.390625 41.71875 45.5625 \nQ 45.3125 48.734375 45.3125 54.390625 \nQ 45.3125 60.0625 41.71875 63.234375 \nQ 38.140625 66.40625 31.78125 66.40625 \nQ 25.390625 66.40625 21.84375 63.234375 \nQ 18.3125 60.0625 18.3125 54.390625 \nz\n\" id=\"DejaVuSans-56\"/>\n       </defs>\n       <use xlink:href=\"#DejaVuSans-48\"/>\n       <use x=\"63.623047\" xlink:href=\"#DejaVuSans-46\"/>\n       <use x=\"95.410156\" xlink:href=\"#DejaVuSans-56\"/>\n      </g>\n     </g>\n    </g>\n    <g id=\"ytick_13\">\n     <g id=\"line2d_20\">\n      <g>\n       <use style=\"stroke:#000000;stroke-width:0.8;\" x=\"410.636375\" xlink:href=\"#m7107daa437\" y=\"10.999219\"/>\n      </g>\n     </g>\n     <g id=\"text_20\">\n      <!-- 1.0 -->\n      <g transform=\"translate(417.636375 14.798438)scale(0.1 -0.1)\">\n       <defs>\n        <path d=\"M 12.40625 8.296875 \nL 28.515625 8.296875 \nL 28.515625 63.921875 \nL 10.984375 60.40625 \nL 10.984375 69.390625 \nL 28.421875 72.90625 \nL 38.28125 72.90625 \nL 38.28125 8.296875 \nL 54.390625 8.296875 \nL 54.390625 0 \nL 12.40625 0 \nz\n\" id=\"DejaVuSans-49\"/>\n       </defs>\n       <use xlink:href=\"#DejaVuSans-49\"/>\n       <use x=\"63.623047\" xlink:href=\"#DejaVuSans-46\"/>\n       <use x=\"95.410156\" xlink:href=\"#DejaVuSans-48\"/>\n      </g>\n     </g>\n    </g>\n   </g>\n   <g id=\"patch_4\">\n    <path d=\"M 399.764375 228.439219 \nL 399.764375 227.589844 \nL 399.764375 11.848594 \nL 399.764375 10.999219 \nL 410.636375 10.999219 \nL 410.636375 11.848594 \nL 410.636375 227.589844 \nL 410.636375 228.439219 \nz\n\" style=\"fill:none;\"/>\n   </g>\n  </g>\n </g>\n <defs>\n  <clipPath id=\"p0198b1985d\">\n   <rect height=\"217.44\" width=\"267.84\" x=\"115.184375\" y=\"10.999219\"/>\n  </clipPath>\n  <clipPath id=\"p83f1d1388e\">\n   <rect height=\"217.44\" width=\"10.872\" x=\"399.764375\" y=\"10.999219\"/>\n  </clipPath>\n </defs>\n</svg>\n",
      "image/png": "[encoded data removed]"
     },
     "metadata": {
      "needs_background": "light"
     }
    }
   ],
   "source": [
    "sns.heatmap(dfnumerical.corr())"
   ]
  },
  {
   "cell_type": "code",
   "execution_count": 20,
   "metadata": {},
   "outputs": [],
   "source": [
    "X = dfnumerical[['Month', 'Duration', 'deviceLabel', 'affiliateLabel', 'bookerCountryLabel', 'hotelCountryLabel']]\n",
    "y = dfnumerical['cityLabel']"
   ]
  },
  {
   "cell_type": "code",
   "execution_count": 21,
   "metadata": {},
   "outputs": [],
   "source": [
    "from sklearn.model_selection import train_test_split"
   ]
  },
  {
   "cell_type": "code",
   "execution_count": 22,
   "metadata": {},
   "outputs": [],
   "source": [
    "X_train, X_test, y_train, y_test = train_test_split(X, y, test_size=0.4, random_state=101)"
   ]
  },
  {
   "cell_type": "code",
   "execution_count": 22,
   "metadata": {},
   "outputs": [],
   "source": [
    "\n"
   ]
  },
  {
   "cell_type": "code",
   "execution_count": 23,
   "metadata": {},
   "outputs": [],
   "source": [
    "# Decision Tree\n",
    "\n",
    "from sklearn.tree import DecisionTreeClassifier"
   ]
  },
  {
   "cell_type": "code",
   "execution_count": 24,
   "metadata": {},
   "outputs": [],
   "source": [
    "dtree = DecisionTreeClassifier()\n"
   ]
  },
  {
   "cell_type": "code",
   "execution_count": 25,
   "metadata": {},
   "outputs": [],
   "source": [
    "dtree.fit(X_train,y_train)"
   ]
  },
  {
   "cell_type": "code",
   "execution_count": null,
   "metadata": {},
   "outputs": [],
   "source": [
    "predictions = dtree.predict(X_test)"
   ]
  },
  {
   "cell_type": "code",
   "execution_count": 3,
   "metadata": {},
   "outputs": [],
   "source": [
    "from sklearn.metrics import classification_report,confusion_matrix"
   ]
  },
  {
   "cell_type": "code",
   "execution_count": 4,
   "metadata": {},
   "outputs": [
    {
     "output_type": "error",
     "ename": "NameError",
     "evalue": "name 'y_test' is not defined",
     "traceback": [
      "\u001b[0;31m---------------------------------------------------------------------------\u001b[0m",
      "\u001b[0;31mNameError\u001b[0m                                 Traceback (most recent call last)",
      "\u001b[0;32m<ipython-input-4-49b4b26ceb45>\u001b[0m in \u001b[0;36m<module>\u001b[0;34m\u001b[0m\n\u001b[0;32m----> 1\u001b[0;31m \u001b[0mprint\u001b[0m\u001b[0;34m(\u001b[0m\u001b[0mclassification_report\u001b[0m\u001b[0;34m(\u001b[0m\u001b[0my_test\u001b[0m\u001b[0;34m,\u001b[0m\u001b[0mpredictions\u001b[0m\u001b[0;34m)\u001b[0m\u001b[0;34m)\u001b[0m\u001b[0;34m\u001b[0m\u001b[0;34m\u001b[0m\u001b[0m\n\u001b[0m",
      "\u001b[0;31mNameError\u001b[0m: name 'y_test' is not defined"
     ]
    }
   ],
   "source": [
    "print(classification_report(y_test,predictions))"
   ]
  },
  {
   "cell_type": "code",
   "execution_count": null,
   "metadata": {},
   "outputs": [],
   "source": [
    "print(confusion_matrix(y_test,predictions))"
   ]
  }
 ],
 "metadata": {
  "kernelspec": {
   "display_name": "Python 3",
   "language": "python",
   "name": "python3"
  }
 },
 "nbformat": 4,
 "nbformat_minor": 4
}