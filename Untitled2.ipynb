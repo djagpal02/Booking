{
 "cells": [
  {
   "cell_type": "code",
   "execution_count": 1,
   "metadata": {},
   "outputs": [],
   "source": [
    "import pandas as pd \n",
    "import numpy as np\n",
    "import matplotlib.pyplot as plt\n",
    "import seaborn as sns\n",
    "%matplotlib inline"
   ]
  },
  {
   "cell_type": "code",
   "execution_count": 2,
   "metadata": {},
   "outputs": [],
   "source": [
    "df = pd.read_csv('booking_train_set.csv')"
   ]
  },
  {
   "cell_type": "code",
   "execution_count": 3,
   "metadata": {},
   "outputs": [],
   "source": [
    "df.drop(['index'],axis=1,inplace = True);"
   ]
  },
  {
   "cell_type": "code",
   "execution_count": 5,
   "metadata": {},
   "outputs": [],
   "source": [
    "# Get Labels for Cities\n",
    "\n",
    "df[\"city_id\"] = df[\"city_id\"].astype('category')\n",
    "df[\"cityLabel\"] = df[\"city_id\"].cat.codes"
   ]
  },
  {
   "cell_type": "code",
   "execution_count": 100,
   "metadata": {},
   "outputs": [],
   "source": [
    "# Convert to datetime\n",
    "\n",
    "df['checkin'] = df['checkin'].apply(lambda x: pd.to_datetime(x))\n",
    "df['checkout'] = df['checkout'].apply(lambda x: pd.to_datetime(x))\n",
    "\n",
    "# Get Month\n",
    "df['Month'] = df['checkin'].apply(lambda x: x.month)"
   ]
  },
  {
   "cell_type": "code",
   "execution_count": 268,
   "metadata": {},
   "outputs": [
    {
     "data": {
      "text/html": [
       "<div>\n",
       "<style scoped>\n",
       "    .dataframe tbody tr th:only-of-type {\n",
       "        vertical-align: middle;\n",
       "    }\n",
       "\n",
       "    .dataframe tbody tr th {\n",
       "        vertical-align: top;\n",
       "    }\n",
       "\n",
       "    .dataframe thead th {\n",
       "        text-align: right;\n",
       "    }\n",
       "</style>\n",
       "<table border=\"1\" class=\"dataframe\">\n",
       "  <thead>\n",
       "    <tr style=\"text-align: right;\">\n",
       "      <th></th>\n",
       "      <th>user_id</th>\n",
       "      <th>checkin</th>\n",
       "      <th>checkout</th>\n",
       "      <th>city_id</th>\n",
       "      <th>device_class</th>\n",
       "      <th>affiliate_id</th>\n",
       "      <th>booker_country</th>\n",
       "      <th>hotel_country</th>\n",
       "      <th>utrip_id</th>\n",
       "      <th>cityLabel</th>\n",
       "      <th>Month</th>\n",
       "    </tr>\n",
       "  </thead>\n",
       "  <tbody>\n",
       "    <tr>\n",
       "      <th>0</th>\n",
       "      <td>1006220</td>\n",
       "      <td>2016-04-09</td>\n",
       "      <td>2016-04-11</td>\n",
       "      <td>31114</td>\n",
       "      <td>desktop</td>\n",
       "      <td>384</td>\n",
       "      <td>Gondal</td>\n",
       "      <td>Gondal</td>\n",
       "      <td>1006220_1</td>\n",
       "      <td>17798</td>\n",
       "      <td>4</td>\n",
       "    </tr>\n",
       "    <tr>\n",
       "      <th>1</th>\n",
       "      <td>1006220</td>\n",
       "      <td>2016-04-11</td>\n",
       "      <td>2016-04-12</td>\n",
       "      <td>39641</td>\n",
       "      <td>desktop</td>\n",
       "      <td>384</td>\n",
       "      <td>Gondal</td>\n",
       "      <td>Gondal</td>\n",
       "      <td>1006220_1</td>\n",
       "      <td>22669</td>\n",
       "      <td>4</td>\n",
       "    </tr>\n",
       "    <tr>\n",
       "      <th>2</th>\n",
       "      <td>1006220</td>\n",
       "      <td>2016-04-12</td>\n",
       "      <td>2016-04-16</td>\n",
       "      <td>20232</td>\n",
       "      <td>desktop</td>\n",
       "      <td>384</td>\n",
       "      <td>Gondal</td>\n",
       "      <td>Glubbdubdrib</td>\n",
       "      <td>1006220_1</td>\n",
       "      <td>11574</td>\n",
       "      <td>4</td>\n",
       "    </tr>\n",
       "    <tr>\n",
       "      <th>3</th>\n",
       "      <td>1006220</td>\n",
       "      <td>2016-04-16</td>\n",
       "      <td>2016-04-17</td>\n",
       "      <td>24144</td>\n",
       "      <td>desktop</td>\n",
       "      <td>384</td>\n",
       "      <td>Gondal</td>\n",
       "      <td>Gondal</td>\n",
       "      <td>1006220_1</td>\n",
       "      <td>13853</td>\n",
       "      <td>4</td>\n",
       "    </tr>\n",
       "    <tr>\n",
       "      <th>4</th>\n",
       "      <td>1010293</td>\n",
       "      <td>2016-07-09</td>\n",
       "      <td>2016-07-10</td>\n",
       "      <td>5325</td>\n",
       "      <td>mobile</td>\n",
       "      <td>359</td>\n",
       "      <td>The Devilfire Empire</td>\n",
       "      <td>Cobra Island</td>\n",
       "      <td>1010293_1</td>\n",
       "      <td>3064</td>\n",
       "      <td>7</td>\n",
       "    </tr>\n",
       "  </tbody>\n",
       "</table>\n",
       "</div>"
      ],
      "text/plain": [
       "   user_id    checkin   checkout city_id device_class  affiliate_id  \\\n",
       "0  1006220 2016-04-09 2016-04-11   31114      desktop           384   \n",
       "1  1006220 2016-04-11 2016-04-12   39641      desktop           384   \n",
       "2  1006220 2016-04-12 2016-04-16   20232      desktop           384   \n",
       "3  1006220 2016-04-16 2016-04-17   24144      desktop           384   \n",
       "4  1010293 2016-07-09 2016-07-10    5325       mobile           359   \n",
       "\n",
       "         booker_country hotel_country   utrip_id  cityLabel  Month  \n",
       "0                Gondal        Gondal  1006220_1      17798      4  \n",
       "1                Gondal        Gondal  1006220_1      22669      4  \n",
       "2                Gondal  Glubbdubdrib  1006220_1      11574      4  \n",
       "3                Gondal        Gondal  1006220_1      13853      4  \n",
       "4  The Devilfire Empire  Cobra Island  1010293_1       3064      7  "
      ]
     },
     "execution_count": 268,
     "metadata": {},
     "output_type": "execute_result"
    }
   ],
   "source": [
    "df.head()"
   ]
  },
  {
   "cell_type": "code",
   "execution_count": 376,
   "metadata": {},
   "outputs": [
    {
     "data": {
      "text/plain": [
       "38637"
      ]
     },
     "execution_count": 376,
     "metadata": {},
     "output_type": "execute_result"
    }
   ],
   "source": [
    "df['cityLabel'].max()"
   ]
  },
  {
   "cell_type": "code",
   "execution_count": 390,
   "metadata": {},
   "outputs": [],
   "source": [
    "def prob_converter(lst):\n",
    "    temp = []\n",
    "    for i in range(len(lst)):\n",
    "        temp.append((round(lst[i]/sum(lst),2)))\n",
    "    return temp"
   ]
  },
  {
   "cell_type": "code",
   "execution_count": 391,
   "metadata": {},
   "outputs": [],
   "source": [
    "device_class_arr = []\n",
    "affiliate_id_arr = []\n",
    "booker_country_arr = []\n",
    "month_arr = []\n",
    "\n",
    "for i in range(10):\n",
    "        device_class_arr.append(prob_converter(df[df['cityLabel'] == i ]['device_class'].value_counts().reindex(df.device_class.unique(), fill_value=0.01).to_list()))\n",
    "        affiliate_id_arr.append(prob_converter(df[df['cityLabel'] == i ]['affiliate_id'].value_counts().reindex(df.affiliate_id.unique(), fill_value=0.01).sort_index().to_list()))\n",
    "        booker_country_arr.append(prob_converter(df[df['cityLabel'] == i ]['booker_country'].value_counts().reindex(df.booker_country.unique(), fill_value=0.01).to_list()))\n",
    "        month_arr.append(prob_converter(df[df['cityLabel'] == i ]['Month'].value_counts().reindex(df.Month.unique(), fill_value=0.01).sort_index().to_list()))\n"
   ]
  },
  {
   "cell_type": "code",
   "execution_count": 392,
   "metadata": {},
   "outputs": [],
   "source": [
    "dev_series = pd.Series(df['device_class'].unique())\n",
    "aff_series = pd.Series(df['affiliate_id'].unique()).sort_values()\n",
    "bkk_series = pd.Series(df['booker_country'].unique())"
   ]
  },
  {
   "cell_type": "code",
   "execution_count": 393,
   "metadata": {},
   "outputs": [],
   "source": [
    "def det(inp, typ):\n",
    "    if typ == 1:\n",
    "        # Device Class\n",
    "        return dev_series[dev_series == inp].index[0]\n",
    "    elif typ == 2:\n",
    "        # Affiliate Id\n",
    "        return aff_series[aff_series == inp].index[0]\n",
    "    elif typ == 3:\n",
    "        # Booker country\n",
    "        return bkk_series[bkk_series == inp].index[0]\n",
    "    else:\n",
    "        # Month\n",
    "        return inp - 1\n"
   ]
  },
  {
   "cell_type": "code",
   "execution_count": 394,
   "metadata": {},
   "outputs": [],
   "source": [
    "def predict(a,b,c,d):\n",
    "    prob_list = []\n",
    "    for i in range(10):\n",
    "        prob_list.append(device_class_arr[i][det(a,1)]*affiliate_id_arr[i][det(b,2)]*booker_country_arr[i][det(c,3)]*month_arr[i][det(d,4)])\n",
    "    \n",
    "    return prob_list.index(max(prob_list))\n"
   ]
  },
  {
   "cell_type": "code",
   "execution_count": 395,
   "metadata": {},
   "outputs": [],
   "source": [
    "# Run predicitions on training data\n",
    "successful = 0\n",
    "for i in range(10):\n",
    "    prediction = predict(df.iloc[i]['device_class'],df.iloc[i]['affiliate_id'],df.iloc[i]['booker_country'],df.iloc[i]['Month'])\n",
    "    if prediction == df.iloc[i]['cityLabel']:\n",
    "        successful += 1"
   ]
  },
  {
   "cell_type": "code",
   "execution_count": 396,
   "metadata": {},
   "outputs": [
    {
     "data": {
      "text/plain": [
       "0"
      ]
     },
     "execution_count": 396,
     "metadata": {},
     "output_type": "execute_result"
    }
   ],
   "source": [
    "successful"
   ]
  },
  {
   "cell_type": "code",
   "execution_count": null,
   "metadata": {},
   "outputs": [],
   "source": []
  },
  {
   "cell_type": "code",
   "execution_count": null,
   "metadata": {},
   "outputs": [],
   "source": []
  },
  {
   "cell_type": "code",
   "execution_count": null,
   "metadata": {},
   "outputs": [],
   "source": []
  },
  {
   "cell_type": "code",
   "execution_count": null,
   "metadata": {},
   "outputs": [],
   "source": []
  },
  {
   "cell_type": "code",
   "execution_count": null,
   "metadata": {},
   "outputs": [],
   "source": []
  },
  {
   "cell_type": "code",
   "execution_count": null,
   "metadata": {},
   "outputs": [],
   "source": []
  },
  {
   "cell_type": "code",
   "execution_count": null,
   "metadata": {},
   "outputs": [],
   "source": []
  }
 ],
 "metadata": {
  "kernelspec": {
   "display_name": "Python 3.8.5 64-bit",
   "language": "python",
   "name": "python38564bit2bb0afeb707745daba1b4a03481c0a1e"
  },
  "language_info": {
   "codemirror_mode": {
    "name": "ipython",
    "version": 3
   },
   "file_extension": ".py",
   "mimetype": "text/x-python",
   "name": "python",
   "nbconvert_exporter": "python",
   "pygments_lexer": "ipython3",
   "version": "3.8.5"
  }
 },
 "nbformat": 4,
 "nbformat_minor": 4
}
